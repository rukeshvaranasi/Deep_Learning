{
 "cells": [
  {
   "cell_type": "code",
   "execution_count": 1,
   "id": "756ecf44",
   "metadata": {},
   "outputs": [],
   "source": [
    "# Importing required libraries \n",
    "import pandas as pd \n",
    "import numpy as np\n",
    "import matplotlib.pyplot as plt "
   ]
  },
  {
   "cell_type": "markdown",
   "id": "30390514",
   "metadata": {},
   "source": [
    "### **Loading csv file**"
   ]
  },
  {
   "cell_type": "code",
   "execution_count": 64,
   "id": "a044e743",
   "metadata": {},
   "outputs": [
    {
     "data": {
      "text/html": [
       "<div>\n",
       "<style scoped>\n",
       "    .dataframe tbody tr th:only-of-type {\n",
       "        vertical-align: middle;\n",
       "    }\n",
       "\n",
       "    .dataframe tbody tr th {\n",
       "        vertical-align: top;\n",
       "    }\n",
       "\n",
       "    .dataframe thead th {\n",
       "        text-align: right;\n",
       "    }\n",
       "</style>\n",
       "<table border=\"1\" class=\"dataframe\">\n",
       "  <thead>\n",
       "    <tr style=\"text-align: right;\">\n",
       "      <th></th>\n",
       "      <th>0</th>\n",
       "      <th>1</th>\n",
       "      <th>2</th>\n",
       "    </tr>\n",
       "  </thead>\n",
       "  <tbody>\n",
       "    <tr>\n",
       "      <th>0</th>\n",
       "      <td>-0.382891</td>\n",
       "      <td>-0.090840</td>\n",
       "      <td>1.0</td>\n",
       "    </tr>\n",
       "    <tr>\n",
       "      <th>1</th>\n",
       "      <td>-0.020962</td>\n",
       "      <td>-0.477874</td>\n",
       "      <td>1.0</td>\n",
       "    </tr>\n",
       "    <tr>\n",
       "      <th>2</th>\n",
       "      <td>-0.396116</td>\n",
       "      <td>-1.289427</td>\n",
       "      <td>0.0</td>\n",
       "    </tr>\n",
       "    <tr>\n",
       "      <th>3</th>\n",
       "      <td>-0.618130</td>\n",
       "      <td>-0.063837</td>\n",
       "      <td>1.0</td>\n",
       "    </tr>\n",
       "    <tr>\n",
       "      <th>4</th>\n",
       "      <td>0.703478</td>\n",
       "      <td>-0.187038</td>\n",
       "      <td>1.0</td>\n",
       "    </tr>\n",
       "  </tbody>\n",
       "</table>\n",
       "</div>"
      ],
      "text/plain": [
       "          0         1    2\n",
       "0 -0.382891 -0.090840  1.0\n",
       "1 -0.020962 -0.477874  1.0\n",
       "2 -0.396116 -1.289427  0.0\n",
       "3 -0.618130 -0.063837  1.0\n",
       "4  0.703478 -0.187038  1.0"
      ]
     },
     "execution_count": 64,
     "metadata": {},
     "output_type": "execute_result"
    }
   ],
   "source": [
    "df=pd.read_csv(r\"C:\\Users\\ADMIN\\Downloads\\PYTHON FILES\\Deep_Learning\\Assignments & Projects\\Assignment 4\\Multiple CSV/2.concerticcir1.csv\",header=None) \n",
    "df.head()   "
   ]
  },
  {
   "cell_type": "code",
   "execution_count": 65,
   "id": "5edd5186",
   "metadata": {},
   "outputs": [
    {
     "name": "stdout",
     "output_type": "stream",
     "text": [
      "<class 'pandas.core.frame.DataFrame'>\n",
      "RangeIndex: 100 entries, 0 to 99\n",
      "Data columns (total 3 columns):\n",
      " #   Column  Non-Null Count  Dtype  \n",
      "---  ------  --------------  -----  \n",
      " 0   0       100 non-null    float64\n",
      " 1   1       100 non-null    float64\n",
      " 2   2       100 non-null    float64\n",
      "dtypes: float64(3)\n",
      "memory usage: 2.5 KB\n"
     ]
    }
   ],
   "source": [
    "df.info() "
   ]
  },
  {
   "cell_type": "code",
   "execution_count": 66,
   "id": "0fb07a19",
   "metadata": {},
   "outputs": [
    {
     "data": {
      "text/plain": [
       "1.0    50\n",
       "0.0    50\n",
       "Name: 2, dtype: int64"
      ]
     },
     "execution_count": 66,
     "metadata": {},
     "output_type": "execute_result"
    }
   ],
   "source": [
    "# Checking whether target variable is balanced or not\n",
    "df[2].value_counts() "
   ]
  },
  {
   "cell_type": "markdown",
   "id": "b65ed298-6adb-4037-bbc0-572a6b41e550",
   "metadata": {},
   "source": [
    "**Observation:**\n",
    "- The data is balanced with 50% as 1 and 50% as 0."
   ]
  },
  {
   "cell_type": "markdown",
   "id": "13f5b0f5",
   "metadata": {},
   "source": [
    "### **Identifying Input and Output Features**"
   ]
  },
  {
   "cell_type": "code",
   "execution_count": 67,
   "id": "742672c9",
   "metadata": {},
   "outputs": [],
   "source": [
    "x=df.iloc[:,0:2]\n",
    "y=df.iloc[:,2].astype(int) "
   ]
  },
  {
   "cell_type": "code",
   "execution_count": 68,
   "id": "7301a154",
   "metadata": {},
   "outputs": [
    {
     "data": {
      "text/html": [
       "<div>\n",
       "<style scoped>\n",
       "    .dataframe tbody tr th:only-of-type {\n",
       "        vertical-align: middle;\n",
       "    }\n",
       "\n",
       "    .dataframe tbody tr th {\n",
       "        vertical-align: top;\n",
       "    }\n",
       "\n",
       "    .dataframe thead th {\n",
       "        text-align: right;\n",
       "    }\n",
       "</style>\n",
       "<table border=\"1\" class=\"dataframe\">\n",
       "  <thead>\n",
       "    <tr style=\"text-align: right;\">\n",
       "      <th></th>\n",
       "      <th>0</th>\n",
       "      <th>1</th>\n",
       "    </tr>\n",
       "  </thead>\n",
       "  <tbody>\n",
       "    <tr>\n",
       "      <th>0</th>\n",
       "      <td>-0.382891</td>\n",
       "      <td>-0.090840</td>\n",
       "    </tr>\n",
       "    <tr>\n",
       "      <th>1</th>\n",
       "      <td>-0.020962</td>\n",
       "      <td>-0.477874</td>\n",
       "    </tr>\n",
       "    <tr>\n",
       "      <th>2</th>\n",
       "      <td>-0.396116</td>\n",
       "      <td>-1.289427</td>\n",
       "    </tr>\n",
       "    <tr>\n",
       "      <th>3</th>\n",
       "      <td>-0.618130</td>\n",
       "      <td>-0.063837</td>\n",
       "    </tr>\n",
       "    <tr>\n",
       "      <th>4</th>\n",
       "      <td>0.703478</td>\n",
       "      <td>-0.187038</td>\n",
       "    </tr>\n",
       "  </tbody>\n",
       "</table>\n",
       "</div>"
      ],
      "text/plain": [
       "          0         1\n",
       "0 -0.382891 -0.090840\n",
       "1 -0.020962 -0.477874\n",
       "2 -0.396116 -1.289427\n",
       "3 -0.618130 -0.063837\n",
       "4  0.703478 -0.187038"
      ]
     },
     "execution_count": 68,
     "metadata": {},
     "output_type": "execute_result"
    }
   ],
   "source": [
    "x.head() "
   ]
  },
  {
   "cell_type": "markdown",
   "id": "25ea1eb6",
   "metadata": {},
   "source": [
    "### Split the data into train and test "
   ]
  },
  {
   "cell_type": "code",
   "execution_count": 69,
   "id": "a4475097",
   "metadata": {},
   "outputs": [],
   "source": [
    "from sklearn.model_selection import train_test_split\n",
    "x_train,x_test,y_train,y_test=train_test_split(x,y,test_size=0.1) "
   ]
  },
  {
   "cell_type": "code",
   "execution_count": 70,
   "id": "49050428",
   "metadata": {},
   "outputs": [
    {
     "name": "stdout",
     "output_type": "stream",
     "text": [
      "(90, 2)\n",
      "(10, 2)\n"
     ]
    }
   ],
   "source": [
    "# Train and test shape\n",
    "print(x_train.shape) \n",
    "print(x_test.shape)"
   ]
  },
  {
   "cell_type": "markdown",
   "id": "6c912cf4",
   "metadata": {},
   "source": [
    "### Standardizing Input features"
   ]
  },
  {
   "cell_type": "code",
   "execution_count": 71,
   "id": "7cb3593c-7e7d-4667-a6cc-9f4e16696edb",
   "metadata": {},
   "outputs": [],
   "source": [
    "from sklearn.preprocessing import StandardScaler\n",
    "std=StandardScaler()"
   ]
  },
  {
   "cell_type": "markdown",
   "id": "1e9f19e3-443c-49e6-af83-490c9d71c5a2",
   "metadata": {},
   "source": [
    "### Rescaling numerical Input(train and test) features"
   ]
  },
  {
   "cell_type": "code",
   "execution_count": 72,
   "id": "80f5dc5e",
   "metadata": {},
   "outputs": [],
   "source": [
    "# Fit and transform on train data\n",
    "x_train=std.fit_transform(x_train)\n",
    "\n",
    "# Transform on test data\n",
    "x_test=std.transform(x_test)  "
   ]
  },
  {
   "cell_type": "markdown",
   "id": "e4e42b2f",
   "metadata": {},
   "source": [
    "### **Building the Logical Structure**"
   ]
  },
  {
   "cell_type": "code",
   "execution_count": 73,
   "id": "c9f23ee2-f6f9-43f4-bca7-4502082435f6",
   "metadata": {},
   "outputs": [],
   "source": [
    "# Importing libraries to build a neural network \n",
    "from keras import Sequential \n",
    "from keras.layers import Dense, Dropout, BatchNormalization\n",
    "\n",
    "from keras.regularizers import L1,L2,L1L2 \n",
    "from keras.optimizers import SGD "
   ]
  },
  {
   "cell_type": "code",
   "execution_count": 74,
   "id": "c418f0f8",
   "metadata": {},
   "outputs": [],
   "source": [
    "model=Sequential()\n",
    "model.add(Dense(16,activation=\"relu\",kernel_regularizer=L2(0.001),bias_regularizer=L2(0.001),input_dim=2))\n",
    "model.add(Dense(14,activation=\"relu\",kernel_regularizer=L2(0.001),bias_regularizer=L2(0.001)))\n",
    "model.add(Dense(10,activation=\"relu\",kernel_regularizer=L2(0.001),bias_regularizer=L2(0.001)))\n",
    "model.add(Dense(4,activation=\"relu\",kernel_regularizer=L2(0.001),bias_regularizer=L2(0.001)))\n",
    "model.add(Dense(1,activation=\"sigmoid\"))"
   ]
  },
  {
   "cell_type": "code",
   "execution_count": 75,
   "id": "aec08cfb",
   "metadata": {},
   "outputs": [
    {
     "name": "stdout",
     "output_type": "stream",
     "text": [
      "Model: \"sequential_4\"\n",
      "_________________________________________________________________\n",
      " Layer (type)                Output Shape              Param #   \n",
      "=================================================================\n",
      " dense_20 (Dense)            (None, 16)                48        \n",
      "                                                                 \n",
      " dense_21 (Dense)            (None, 14)                238       \n",
      "                                                                 \n",
      " dense_22 (Dense)            (None, 10)                150       \n",
      "                                                                 \n",
      " dense_23 (Dense)            (None, 4)                 44        \n",
      "                                                                 \n",
      " dense_24 (Dense)            (None, 1)                 5         \n",
      "                                                                 \n",
      "=================================================================\n",
      "Total params: 485 (1.89 KB)\n",
      "Trainable params: 485 (1.89 KB)\n",
      "Non-trainable params: 0 (0.00 Byte)\n",
      "_________________________________________________________________\n"
     ]
    }
   ],
   "source": [
    "model.summary()"
   ]
  },
  {
   "cell_type": "markdown",
   "id": "6c875aa0",
   "metadata": {},
   "source": [
    "### compiling the model "
   ]
  },
  {
   "cell_type": "code",
   "execution_count": 76,
   "id": "3d3e948c",
   "metadata": {},
   "outputs": [
    {
     "name": "stdout",
     "output_type": "stream",
     "text": [
      "Epoch 1/100\n",
      "6/6 [==============================] - 1s 69ms/step - loss: 0.7016 - accuracy: 0.5185 - val_loss: 0.7083 - val_accuracy: 0.4444\n",
      "Epoch 2/100\n",
      "6/6 [==============================] - 0s 14ms/step - loss: 0.7013 - accuracy: 0.5185 - val_loss: 0.7070 - val_accuracy: 0.4444\n",
      "Epoch 3/100\n",
      "6/6 [==============================] - 0s 14ms/step - loss: 0.7006 - accuracy: 0.5185 - val_loss: 0.7060 - val_accuracy: 0.4444\n",
      "Epoch 4/100\n",
      "6/6 [==============================] - 0s 13ms/step - loss: 0.7001 - accuracy: 0.5432 - val_loss: 0.7051 - val_accuracy: 0.4444\n",
      "Epoch 5/100\n",
      "6/6 [==============================] - 0s 16ms/step - loss: 0.6997 - accuracy: 0.5432 - val_loss: 0.7035 - val_accuracy: 0.4444\n",
      "Epoch 6/100\n",
      "6/6 [==============================] - 0s 14ms/step - loss: 0.6991 - accuracy: 0.5556 - val_loss: 0.7030 - val_accuracy: 0.4444\n",
      "Epoch 7/100\n",
      "6/6 [==============================] - 0s 15ms/step - loss: 0.6989 - accuracy: 0.5432 - val_loss: 0.7027 - val_accuracy: 0.4444\n",
      "Epoch 8/100\n",
      "6/6 [==============================] - 0s 15ms/step - loss: 0.6981 - accuracy: 0.5432 - val_loss: 0.7022 - val_accuracy: 0.4444\n",
      "Epoch 9/100\n",
      "6/6 [==============================] - 0s 15ms/step - loss: 0.6977 - accuracy: 0.5432 - val_loss: 0.7019 - val_accuracy: 0.4444\n",
      "Epoch 10/100\n",
      "6/6 [==============================] - 0s 14ms/step - loss: 0.6972 - accuracy: 0.5556 - val_loss: 0.7008 - val_accuracy: 0.5556\n",
      "Epoch 11/100\n",
      "6/6 [==============================] - 0s 20ms/step - loss: 0.6968 - accuracy: 0.5432 - val_loss: 0.7005 - val_accuracy: 0.5556\n",
      "Epoch 12/100\n",
      "6/6 [==============================] - 0s 16ms/step - loss: 0.6963 - accuracy: 0.5556 - val_loss: 0.6989 - val_accuracy: 0.5556\n",
      "Epoch 13/100\n",
      "6/6 [==============================] - 0s 14ms/step - loss: 0.6955 - accuracy: 0.5926 - val_loss: 0.6977 - val_accuracy: 0.5556\n",
      "Epoch 14/100\n",
      "6/6 [==============================] - 0s 15ms/step - loss: 0.6949 - accuracy: 0.6049 - val_loss: 0.6973 - val_accuracy: 0.5556\n",
      "Epoch 15/100\n",
      "6/6 [==============================] - 0s 15ms/step - loss: 0.6944 - accuracy: 0.5926 - val_loss: 0.6964 - val_accuracy: 0.5556\n",
      "Epoch 16/100\n",
      "6/6 [==============================] - 0s 16ms/step - loss: 0.6939 - accuracy: 0.6049 - val_loss: 0.6961 - val_accuracy: 0.5556\n",
      "Epoch 17/100\n",
      "6/6 [==============================] - 0s 14ms/step - loss: 0.6932 - accuracy: 0.6173 - val_loss: 0.6951 - val_accuracy: 0.5556\n",
      "Epoch 18/100\n",
      "6/6 [==============================] - 0s 16ms/step - loss: 0.6927 - accuracy: 0.6296 - val_loss: 0.6943 - val_accuracy: 0.5556\n",
      "Epoch 19/100\n",
      "6/6 [==============================] - 0s 13ms/step - loss: 0.6919 - accuracy: 0.6420 - val_loss: 0.6935 - val_accuracy: 0.5556\n",
      "Epoch 20/100\n",
      "6/6 [==============================] - 0s 14ms/step - loss: 0.6912 - accuracy: 0.6296 - val_loss: 0.6919 - val_accuracy: 0.5556\n",
      "Epoch 21/100\n",
      "6/6 [==============================] - 0s 13ms/step - loss: 0.6906 - accuracy: 0.6543 - val_loss: 0.6909 - val_accuracy: 0.5556\n",
      "Epoch 22/100\n",
      "6/6 [==============================] - 0s 15ms/step - loss: 0.6897 - accuracy: 0.6543 - val_loss: 0.6899 - val_accuracy: 0.5556\n",
      "Epoch 23/100\n",
      "6/6 [==============================] - 0s 15ms/step - loss: 0.6889 - accuracy: 0.6667 - val_loss: 0.6888 - val_accuracy: 0.5556\n",
      "Epoch 24/100\n",
      "6/6 [==============================] - 0s 14ms/step - loss: 0.6884 - accuracy: 0.6543 - val_loss: 0.6881 - val_accuracy: 0.5556\n",
      "Epoch 25/100\n",
      "6/6 [==============================] - 0s 13ms/step - loss: 0.6879 - accuracy: 0.6667 - val_loss: 0.6870 - val_accuracy: 0.5556\n",
      "Epoch 26/100\n",
      "6/6 [==============================] - 0s 13ms/step - loss: 0.6875 - accuracy: 0.6790 - val_loss: 0.6858 - val_accuracy: 0.5556\n",
      "Epoch 27/100\n",
      "6/6 [==============================] - 0s 18ms/step - loss: 0.6866 - accuracy: 0.6667 - val_loss: 0.6849 - val_accuracy: 0.5556\n",
      "Epoch 28/100\n",
      "6/6 [==============================] - 0s 18ms/step - loss: 0.6859 - accuracy: 0.6790 - val_loss: 0.6838 - val_accuracy: 0.6667\n",
      "Epoch 29/100\n",
      "6/6 [==============================] - 0s 20ms/step - loss: 0.6855 - accuracy: 0.6790 - val_loss: 0.6828 - val_accuracy: 0.6667\n",
      "Epoch 30/100\n",
      "6/6 [==============================] - 0s 22ms/step - loss: 0.6850 - accuracy: 0.6790 - val_loss: 0.6817 - val_accuracy: 0.6667\n",
      "Epoch 31/100\n",
      "6/6 [==============================] - 0s 17ms/step - loss: 0.6842 - accuracy: 0.7037 - val_loss: 0.6815 - val_accuracy: 0.6667\n",
      "Epoch 32/100\n",
      "6/6 [==============================] - 0s 14ms/step - loss: 0.6837 - accuracy: 0.6914 - val_loss: 0.6803 - val_accuracy: 0.6667\n",
      "Epoch 33/100\n",
      "6/6 [==============================] - 0s 12ms/step - loss: 0.6831 - accuracy: 0.7037 - val_loss: 0.6797 - val_accuracy: 0.6667\n",
      "Epoch 34/100\n",
      "6/6 [==============================] - 0s 14ms/step - loss: 0.6827 - accuracy: 0.7037 - val_loss: 0.6794 - val_accuracy: 0.6667\n",
      "Epoch 35/100\n",
      "6/6 [==============================] - 0s 14ms/step - loss: 0.6818 - accuracy: 0.7284 - val_loss: 0.6785 - val_accuracy: 0.6667\n",
      "Epoch 36/100\n",
      "6/6 [==============================] - 0s 14ms/step - loss: 0.6812 - accuracy: 0.7160 - val_loss: 0.6784 - val_accuracy: 0.6667\n",
      "Epoch 37/100\n",
      "6/6 [==============================] - 0s 14ms/step - loss: 0.6803 - accuracy: 0.7160 - val_loss: 0.6781 - val_accuracy: 0.6667\n",
      "Epoch 38/100\n",
      "6/6 [==============================] - 0s 12ms/step - loss: 0.6798 - accuracy: 0.6914 - val_loss: 0.6775 - val_accuracy: 0.6667\n",
      "Epoch 39/100\n",
      "6/6 [==============================] - 0s 14ms/step - loss: 0.6791 - accuracy: 0.7037 - val_loss: 0.6775 - val_accuracy: 0.6667\n",
      "Epoch 40/100\n",
      "6/6 [==============================] - 0s 14ms/step - loss: 0.6788 - accuracy: 0.6914 - val_loss: 0.6772 - val_accuracy: 0.6667\n",
      "Epoch 41/100\n",
      "6/6 [==============================] - 0s 13ms/step - loss: 0.6777 - accuracy: 0.6914 - val_loss: 0.6766 - val_accuracy: 0.6667\n",
      "Epoch 42/100\n",
      "6/6 [==============================] - 0s 14ms/step - loss: 0.6769 - accuracy: 0.6543 - val_loss: 0.6752 - val_accuracy: 0.6667\n",
      "Epoch 43/100\n",
      "6/6 [==============================] - 0s 15ms/step - loss: 0.6765 - accuracy: 0.6914 - val_loss: 0.6749 - val_accuracy: 0.6667\n",
      "Epoch 44/100\n",
      "6/6 [==============================] - 0s 15ms/step - loss: 0.6756 - accuracy: 0.6790 - val_loss: 0.6736 - val_accuracy: 0.6667\n",
      "Epoch 45/100\n",
      "6/6 [==============================] - 0s 13ms/step - loss: 0.6748 - accuracy: 0.7037 - val_loss: 0.6727 - val_accuracy: 0.6667\n",
      "Epoch 46/100\n",
      "6/6 [==============================] - 0s 12ms/step - loss: 0.6743 - accuracy: 0.7160 - val_loss: 0.6709 - val_accuracy: 0.6667\n",
      "Epoch 47/100\n",
      "6/6 [==============================] - 0s 14ms/step - loss: 0.6736 - accuracy: 0.7284 - val_loss: 0.6700 - val_accuracy: 0.6667\n",
      "Epoch 48/100\n",
      "6/6 [==============================] - 0s 14ms/step - loss: 0.6730 - accuracy: 0.7407 - val_loss: 0.6699 - val_accuracy: 0.6667\n",
      "Epoch 49/100\n",
      "6/6 [==============================] - 0s 17ms/step - loss: 0.6728 - accuracy: 0.7407 - val_loss: 0.6689 - val_accuracy: 0.6667\n",
      "Epoch 50/100\n",
      "6/6 [==============================] - 0s 17ms/step - loss: 0.6714 - accuracy: 0.7407 - val_loss: 0.6672 - val_accuracy: 0.6667\n",
      "Epoch 51/100\n",
      "6/6 [==============================] - 0s 16ms/step - loss: 0.6705 - accuracy: 0.7531 - val_loss: 0.6662 - val_accuracy: 0.6667\n",
      "Epoch 52/100\n",
      "6/6 [==============================] - 0s 19ms/step - loss: 0.6697 - accuracy: 0.7654 - val_loss: 0.6651 - val_accuracy: 0.6667\n",
      "Epoch 53/100\n",
      "6/6 [==============================] - 0s 19ms/step - loss: 0.6691 - accuracy: 0.7654 - val_loss: 0.6651 - val_accuracy: 0.6667\n",
      "Epoch 54/100\n",
      "6/6 [==============================] - 0s 26ms/step - loss: 0.6684 - accuracy: 0.7531 - val_loss: 0.6648 - val_accuracy: 0.6667\n",
      "Epoch 55/100\n",
      "6/6 [==============================] - 0s 14ms/step - loss: 0.6672 - accuracy: 0.7407 - val_loss: 0.6639 - val_accuracy: 0.6667\n",
      "Epoch 56/100\n",
      "6/6 [==============================] - 0s 12ms/step - loss: 0.6661 - accuracy: 0.7407 - val_loss: 0.6623 - val_accuracy: 0.6667\n",
      "Epoch 57/100\n",
      "6/6 [==============================] - 0s 13ms/step - loss: 0.6654 - accuracy: 0.7654 - val_loss: 0.6611 - val_accuracy: 0.6667\n",
      "Epoch 58/100\n",
      "6/6 [==============================] - 0s 13ms/step - loss: 0.6644 - accuracy: 0.7531 - val_loss: 0.6596 - val_accuracy: 0.6667\n",
      "Epoch 59/100\n"
     ]
    },
    {
     "name": "stdout",
     "output_type": "stream",
     "text": [
      "6/6 [==============================] - 0s 12ms/step - loss: 0.6635 - accuracy: 0.7531 - val_loss: 0.6586 - val_accuracy: 0.6667\n",
      "Epoch 60/100\n",
      "6/6 [==============================] - 0s 12ms/step - loss: 0.6625 - accuracy: 0.7531 - val_loss: 0.6576 - val_accuracy: 0.6667\n",
      "Epoch 61/100\n",
      "6/6 [==============================] - 0s 13ms/step - loss: 0.6615 - accuracy: 0.7531 - val_loss: 0.6570 - val_accuracy: 0.6667\n",
      "Epoch 62/100\n",
      "6/6 [==============================] - 0s 12ms/step - loss: 0.6608 - accuracy: 0.7531 - val_loss: 0.6560 - val_accuracy: 0.6667\n",
      "Epoch 63/100\n",
      "6/6 [==============================] - 0s 13ms/step - loss: 0.6591 - accuracy: 0.7531 - val_loss: 0.6546 - val_accuracy: 0.6667\n",
      "Epoch 64/100\n",
      "6/6 [==============================] - 0s 13ms/step - loss: 0.6581 - accuracy: 0.7407 - val_loss: 0.6535 - val_accuracy: 0.6667\n",
      "Epoch 65/100\n",
      "6/6 [==============================] - 0s 12ms/step - loss: 0.6571 - accuracy: 0.7531 - val_loss: 0.6511 - val_accuracy: 0.6667\n",
      "Epoch 66/100\n",
      "6/6 [==============================] - 0s 13ms/step - loss: 0.6565 - accuracy: 0.7407 - val_loss: 0.6504 - val_accuracy: 0.6667\n",
      "Epoch 67/100\n",
      "6/6 [==============================] - 0s 12ms/step - loss: 0.6548 - accuracy: 0.7531 - val_loss: 0.6488 - val_accuracy: 0.6667\n",
      "Epoch 68/100\n",
      "6/6 [==============================] - 0s 13ms/step - loss: 0.6535 - accuracy: 0.7778 - val_loss: 0.6467 - val_accuracy: 0.6667\n",
      "Epoch 69/100\n",
      "6/6 [==============================] - 0s 12ms/step - loss: 0.6524 - accuracy: 0.7778 - val_loss: 0.6449 - val_accuracy: 0.6667\n",
      "Epoch 70/100\n",
      "6/6 [==============================] - 0s 12ms/step - loss: 0.6513 - accuracy: 0.8148 - val_loss: 0.6439 - val_accuracy: 0.6667\n",
      "Epoch 71/100\n",
      "6/6 [==============================] - 0s 12ms/step - loss: 0.6496 - accuracy: 0.8025 - val_loss: 0.6421 - val_accuracy: 0.6667\n",
      "Epoch 72/100\n",
      "6/6 [==============================] - 0s 13ms/step - loss: 0.6485 - accuracy: 0.7901 - val_loss: 0.6409 - val_accuracy: 0.6667\n",
      "Epoch 73/100\n",
      "6/6 [==============================] - 0s 12ms/step - loss: 0.6468 - accuracy: 0.8272 - val_loss: 0.6397 - val_accuracy: 0.6667\n",
      "Epoch 74/100\n",
      "6/6 [==============================] - 0s 12ms/step - loss: 0.6458 - accuracy: 0.8272 - val_loss: 0.6383 - val_accuracy: 0.6667\n",
      "Epoch 75/100\n",
      "6/6 [==============================] - 0s 12ms/step - loss: 0.6447 - accuracy: 0.8148 - val_loss: 0.6376 - val_accuracy: 0.6667\n",
      "Epoch 76/100\n",
      "6/6 [==============================] - 0s 13ms/step - loss: 0.6430 - accuracy: 0.8025 - val_loss: 0.6362 - val_accuracy: 0.6667\n",
      "Epoch 77/100\n",
      "6/6 [==============================] - 0s 24ms/step - loss: 0.6418 - accuracy: 0.8148 - val_loss: 0.6357 - val_accuracy: 0.6667\n",
      "Epoch 78/100\n",
      "6/6 [==============================] - 0s 13ms/step - loss: 0.6404 - accuracy: 0.8025 - val_loss: 0.6349 - val_accuracy: 0.6667\n",
      "Epoch 79/100\n",
      "6/6 [==============================] - 0s 13ms/step - loss: 0.6388 - accuracy: 0.8025 - val_loss: 0.6333 - val_accuracy: 0.6667\n",
      "Epoch 80/100\n",
      "6/6 [==============================] - 0s 13ms/step - loss: 0.6372 - accuracy: 0.8025 - val_loss: 0.6321 - val_accuracy: 0.6667\n",
      "Epoch 81/100\n",
      "6/6 [==============================] - 0s 23ms/step - loss: 0.6355 - accuracy: 0.8025 - val_loss: 0.6317 - val_accuracy: 0.6667\n",
      "Epoch 82/100\n",
      "6/6 [==============================] - 0s 15ms/step - loss: 0.6344 - accuracy: 0.8025 - val_loss: 0.6312 - val_accuracy: 0.6667\n",
      "Epoch 83/100\n",
      "6/6 [==============================] - 0s 19ms/step - loss: 0.6328 - accuracy: 0.8025 - val_loss: 0.6285 - val_accuracy: 0.6667\n",
      "Epoch 84/100\n",
      "6/6 [==============================] - 0s 16ms/step - loss: 0.6312 - accuracy: 0.8148 - val_loss: 0.6255 - val_accuracy: 0.6667\n",
      "Epoch 85/100\n",
      "6/6 [==============================] - 0s 15ms/step - loss: 0.6295 - accuracy: 0.8025 - val_loss: 0.6245 - val_accuracy: 0.6667\n",
      "Epoch 86/100\n",
      "6/6 [==============================] - 0s 16ms/step - loss: 0.6278 - accuracy: 0.8025 - val_loss: 0.6244 - val_accuracy: 0.6667\n",
      "Epoch 87/100\n",
      "6/6 [==============================] - 0s 11ms/step - loss: 0.6258 - accuracy: 0.8025 - val_loss: 0.6230 - val_accuracy: 0.6667\n",
      "Epoch 88/100\n",
      "6/6 [==============================] - 0s 12ms/step - loss: 0.6239 - accuracy: 0.8025 - val_loss: 0.6215 - val_accuracy: 0.6667\n",
      "Epoch 89/100\n",
      "6/6 [==============================] - 0s 12ms/step - loss: 0.6222 - accuracy: 0.8148 - val_loss: 0.6209 - val_accuracy: 0.6667\n",
      "Epoch 90/100\n",
      "6/6 [==============================] - 0s 11ms/step - loss: 0.6203 - accuracy: 0.8025 - val_loss: 0.6193 - val_accuracy: 0.6667\n",
      "Epoch 91/100\n",
      "6/6 [==============================] - 0s 12ms/step - loss: 0.6188 - accuracy: 0.8272 - val_loss: 0.6174 - val_accuracy: 0.6667\n",
      "Epoch 92/100\n",
      "6/6 [==============================] - 0s 14ms/step - loss: 0.6166 - accuracy: 0.8272 - val_loss: 0.6154 - val_accuracy: 0.6667\n",
      "Epoch 93/100\n",
      "6/6 [==============================] - 0s 15ms/step - loss: 0.6143 - accuracy: 0.8148 - val_loss: 0.6132 - val_accuracy: 0.6667\n",
      "Epoch 94/100\n",
      "6/6 [==============================] - 0s 14ms/step - loss: 0.6125 - accuracy: 0.8272 - val_loss: 0.6114 - val_accuracy: 0.6667\n",
      "Epoch 95/100\n",
      "6/6 [==============================] - 0s 17ms/step - loss: 0.6101 - accuracy: 0.8272 - val_loss: 0.6103 - val_accuracy: 0.6667\n",
      "Epoch 96/100\n",
      "6/6 [==============================] - 0s 18ms/step - loss: 0.6074 - accuracy: 0.8148 - val_loss: 0.6090 - val_accuracy: 0.6667\n",
      "Epoch 97/100\n",
      "6/6 [==============================] - 0s 16ms/step - loss: 0.6060 - accuracy: 0.8395 - val_loss: 0.6068 - val_accuracy: 0.6667\n",
      "Epoch 98/100\n",
      "6/6 [==============================] - 0s 16ms/step - loss: 0.6031 - accuracy: 0.8272 - val_loss: 0.6057 - val_accuracy: 0.6667\n",
      "Epoch 99/100\n",
      "6/6 [==============================] - 0s 16ms/step - loss: 0.6008 - accuracy: 0.8272 - val_loss: 0.6027 - val_accuracy: 0.6667\n",
      "Epoch 100/100\n",
      "6/6 [==============================] - 0s 17ms/step - loss: 0.5985 - accuracy: 0.8272 - val_loss: 0.6004 - val_accuracy: 0.6667\n"
     ]
    }
   ],
   "source": [
    "model.compile(loss=\"binary_crossentropy\",optimizer=SGD(0.01),metrics=[\"accuracy\"])\n",
    "history=model.fit(x_train,y_train,batch_size=15,epochs=100,validation_split=0.1) "
   ]
  },
  {
   "cell_type": "code",
   "execution_count": 77,
   "id": "f264010e",
   "metadata": {},
   "outputs": [
    {
     "data": {
      "text/plain": [
       "<matplotlib.legend.Legend at 0x29fa5845190>"
      ]
     },
     "execution_count": 77,
     "metadata": {},
     "output_type": "execute_result"
    },
    {
     "data": {
      "image/png": "[encoded data removed]",
      "text/plain": [
       "<Figure size 640x480 with 1 Axes>"
      ]
     },
     "metadata": {},
     "output_type": "display_data"
    }
   ],
   "source": [
    "plt.plot(range(1,101),history.history[\"loss\"],label=\"train_loss\")\n",
    "plt.plot(range(1,101),history.history[\"val_loss\"],label=\"test_loss\") \n",
    "plt.legend()"
   ]
  },
  {
   "cell_type": "markdown",
   "id": "bb0e957f",
   "metadata": {},
   "source": [
    "### Predicting the model "
   ]
  },
  {
   "cell_type": "code",
   "execution_count": 78,
   "id": "55eca951",
   "metadata": {},
   "outputs": [
    {
     "name": "stdout",
     "output_type": "stream",
     "text": [
      "1/1 [==============================] - 0s 123ms/step\n"
     ]
    },
    {
     "data": {
      "text/plain": [
       "array([[0.57213837],\n",
       "       [0.53633904],\n",
       "       [0.5394424 ],\n",
       "       [0.52732444],\n",
       "       [0.3696618 ],\n",
       "       [0.43834078],\n",
       "       [0.45689696],\n",
       "       [0.26959583],\n",
       "       [0.4760818 ],\n",
       "       [0.51028496]], dtype=float32)"
      ]
     },
     "execution_count": 78,
     "metadata": {},
     "output_type": "execute_result"
    }
   ],
   "source": [
    "predicted=model.predict(x_test) \n",
    "predicted "
   ]
  },
  {
   "cell_type": "markdown",
   "id": "336483b7-f8d8-478a-9736-cc46b3bb4e84",
   "metadata": {},
   "source": [
    "**Observation:**\n",
    "- As predicted values are in probability values and we want predicted label either 1 or 0, if probability value is >0.5 then predicted label will be as 1 and if <= 0.5 then predicted label will be as 0."
   ]
  },
  {
   "cell_type": "code",
   "execution_count": 79,
   "id": "438b972e",
   "metadata": {},
   "outputs": [
    {
     "data": {
      "text/plain": [
       "array([[1],\n",
       "       [1],\n",
       "       [1],\n",
       "       [1],\n",
       "       [0],\n",
       "       [0],\n",
       "       [0],\n",
       "       [0],\n",
       "       [0],\n",
       "       [1]])"
      ]
     },
     "execution_count": 79,
     "metadata": {},
     "output_type": "execute_result"
    }
   ],
   "source": [
    "predicted=np.where(predicted>0.5,1,0)\n",
    "predicted  "
   ]
  },
  {
   "cell_type": "markdown",
   "id": "1cdca40d",
   "metadata": {},
   "source": [
    "### **Evaluating the model**"
   ]
  },
  {
   "cell_type": "code",
   "execution_count": 80,
   "id": "e5665761",
   "metadata": {},
   "outputs": [
    {
     "name": "stdout",
     "output_type": "stream",
     "text": [
      "Accuracy: 0.9\n"
     ]
    }
   ],
   "source": [
    "# Accuracy for the model\n",
    "from sklearn.metrics import accuracy_score,confusion_matrix,ConfusionMatrixDisplay\n",
    "print('Accuracy:',accuracy_score(y_test,predicted))"
   ]
  },
  {
   "cell_type": "code",
   "execution_count": 81,
   "id": "49862c50-ad74-45b1-96e4-d2a1644052c0",
   "metadata": {},
   "outputs": [
    {
     "data": {
      "image/png": "[encoded data removed]",
      "text/plain": [
       "<Figure size 640x480 with 2 Axes>"
      ]
     },
     "metadata": {},
     "output_type": "display_data"
    }
   ],
   "source": [
    "# Plotting confusion matrix to visual the correctly predicted labels\n",
    "cm=confusion_matrix(y_test,predicted)\n",
    "va=ConfusionMatrixDisplay(cm)\n",
    "va.plot() \n",
    "plt.show()"
   ]
  },
  {
   "cell_type": "markdown",
   "id": "39787e6a-25e7-427b-904e-f78e6d70d115",
   "metadata": {},
   "source": [
    "**Observation:**\n",
    "- As diagonal elements should be as high as possible, We can conclude model predictions are correct."
   ]
  },
  {
   "cell_type": "markdown",
   "id": "e29e3ce8",
   "metadata": {},
   "source": [
    "### **PLOTING THE DECISION SURFACE**"
   ]
  },
  {
   "cell_type": "code",
   "execution_count": 82,
   "id": "ffffa104",
   "metadata": {},
   "outputs": [
    {
     "name": "stdout",
     "output_type": "stream",
     "text": [
      "9600/9600 [==============================] - 23s 2ms/step\n"
     ]
    },
    {
     "data": {
      "text/plain": [
       "<AxesSubplot:>"
      ]
     },
     "execution_count": 82,
     "metadata": {},
     "output_type": "execute_result"
    },
    {
     "data": {
      "image/png": "[encoded data removed]",
      "text/plain": [
       "<Figure size 640x480 with 1 Axes>"
      ]
     },
     "metadata": {},
     "output_type": "display_data"
    }
   ],
   "source": [
    "# Decision surface on train data\n",
    "from mlxtend.plotting  import plot_decision_regions  \n",
    "plot_decision_regions(x_train,y_train.values,clf=model) "
   ]
  },
  {
   "cell_type": "code",
   "execution_count": 83,
   "id": "d8e35fb0",
   "metadata": {},
   "outputs": [
    {
     "name": "stdout",
     "output_type": "stream",
     "text": [
      "9600/9600 [==============================] - 23s 2ms/step\n"
     ]
    },
    {
     "data": {
      "text/plain": [
       "<AxesSubplot:>"
      ]
     },
     "execution_count": 83,
     "metadata": {},
     "output_type": "execute_result"
    },
    {
     "data": {
      "image/png": "[encoded data removed]",
      "text/plain": [
       "<Figure size 640x480 with 1 Axes>"
      ]
     },
     "metadata": {},
     "output_type": "display_data"
    }
   ],
   "source": [
    "# Decision surface on test data\n",
    "plot_decision_regions(x_test,y_test.values,clf=model)  "
   ]
  },
  {
   "cell_type": "markdown",
   "id": "f8e19e71",
   "metadata": {},
   "source": [
    "## **Conclusions:**\n",
    "- This neural network model achieves an accuracy of around 90%. The model architecture consists of 4 hidden layers.\n",
    "- In the first hidden layer, there are 16 neurons with the ReLU activation function and an L2 regularizer with learning rate as 0.001.\n",
    "- In the second hidden layer, there are 14 neurons with the ReLU activation function and an L2 regularizer with learning rate as 0.001.\n",
    "- In the third hidden layer, there are 10 neurons with the ReLU activation function and an L2 regularizer with learning rate as 0.001.\n",
    "\n",
    "- The output layer uses the sigmoid activation function.\n",
    "\n",
    " \n",
    "- **Overall, this neural network model architecture and training configuration achieve an accuracy of around 90%.**"
   ]
  },
  {
   "cell_type": "code",
   "execution_count": null,
   "id": "29447001",
   "metadata": {},
   "outputs": [],
   "source": []
  }
 ],
 "metadata": {
  "kernelspec": {
   "display_name": "Python 3 (ipykernel)",
   "language": "python",
   "name": "python3"
  },
  "language_info": {
   "codemirror_mode": {
    "name": "ipython",
    "version": 3
   },
   "file_extension": ".py",
   "mimetype": "text/x-python",
   "name": "python",
   "nbconvert_exporter": "python",
   "pygments_lexer": "ipython3",
   "version": "3.9.13"
  }
 },
 "nbformat": 4,
 "nbformat_minor": 5
}

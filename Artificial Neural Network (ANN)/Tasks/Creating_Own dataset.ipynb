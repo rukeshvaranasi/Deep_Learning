{
 "cells": [
  {
   "cell_type": "markdown",
   "id": "0c475789",
   "metadata": {},
   "source": [
    "## Importing Libraries"
   ]
  },
  {
   "cell_type": "code",
   "execution_count": 1,
   "id": "267af50a",
   "metadata": {},
   "outputs": [],
   "source": [
    "import numpy as np\n",
    "import pandas as pd \n",
    "import matplotlib.pyplot as plt \n",
    "import cv2\n",
    "from sklearn.model_selection import train_test_split\n",
    "from sklearn.preprocessing import StandardScaler\n",
    "from keras import Sequential\n",
    "from keras.layers import Dense,Dropout \n",
    "from keras.regularizers import  L1,L2 "
   ]
  },
  {
   "cell_type": "markdown",
   "id": "931bb089",
   "metadata": {},
   "source": [
    "## creating datapoints on the image with mouse click"
   ]
  },
  {
   "cell_type": "code",
   "execution_count": 2,
   "id": "f7a1a157",
   "metadata": {},
   "outputs": [],
   "source": [
    "dataset=[]\n",
    " \n",
    "def draw(event,x,y,flag,param):\n",
    "    if event==cv2.EVENT_FLAG_LBUTTON:\n",
    "        dataset.append((x,y,0))\n",
    "        cv2.circle(img,(x,y),4,(0,0,255),-1)\n",
    "    elif event==cv2.EVENT_FLAG_RBUTTON:\n",
    "        dataset.append((x,y,1))\n",
    "        cv2.circle(img,(x,y),4,(0,255,0),-1) "
   ]
  },
  {
   "cell_type": "code",
   "execution_count": 3,
   "id": "b136ab03",
   "metadata": {},
   "outputs": [],
   "source": [
    "img=np.full((400,400,3),255,np.uint8)\n",
    "cv2.namedWindow(\"window name\",cv2.WINDOW_NORMAL)\n",
    "cv2.setMouseCallback(\"window name\",draw)\n",
    "\n",
    "while True:\n",
    "    cv2.imshow(\"window name\",img)\n",
    "    if cv2.waitKey(1)&255==ord(\"q\"):\n",
    "        break \n",
    "cv2.destroyAllWindows() "
   ]
  },
  {
   "cell_type": "code",
   "execution_count": 4,
   "id": "b54ddf48",
   "metadata": {},
   "outputs": [
    {
     "data": {
      "text/plain": [
       "74"
      ]
     },
     "execution_count": 4,
     "metadata": {},
     "output_type": "execute_result"
    }
   ],
   "source": [
    "len(dataset) "
   ]
  },
  {
   "cell_type": "code",
   "execution_count": 5,
   "id": "e106d9d2",
   "metadata": {},
   "outputs": [],
   "source": [
    "df=pd.DataFrame(dataset)"
   ]
  },
  {
   "cell_type": "code",
   "execution_count": 6,
   "id": "1d267a61",
   "metadata": {},
   "outputs": [
    {
     "data": {
      "text/html": [
       "<div>\n",
       "<style scoped>\n",
       "    .dataframe tbody tr th:only-of-type {\n",
       "        vertical-align: middle;\n",
       "    }\n",
       "\n",
       "    .dataframe tbody tr th {\n",
       "        vertical-align: top;\n",
       "    }\n",
       "\n",
       "    .dataframe thead th {\n",
       "        text-align: right;\n",
       "    }\n",
       "</style>\n",
       "<table border=\"1\" class=\"dataframe\">\n",
       "  <thead>\n",
       "    <tr style=\"text-align: right;\">\n",
       "      <th></th>\n",
       "      <th>0</th>\n",
       "      <th>1</th>\n",
       "      <th>2</th>\n",
       "    </tr>\n",
       "  </thead>\n",
       "  <tbody>\n",
       "    <tr>\n",
       "      <th>0</th>\n",
       "      <td>205</td>\n",
       "      <td>205</td>\n",
       "      <td>0</td>\n",
       "    </tr>\n",
       "    <tr>\n",
       "      <th>1</th>\n",
       "      <td>53</td>\n",
       "      <td>118</td>\n",
       "      <td>1</td>\n",
       "    </tr>\n",
       "    <tr>\n",
       "      <th>2</th>\n",
       "      <td>28</td>\n",
       "      <td>140</td>\n",
       "      <td>1</td>\n",
       "    </tr>\n",
       "    <tr>\n",
       "      <th>3</th>\n",
       "      <td>213</td>\n",
       "      <td>227</td>\n",
       "      <td>0</td>\n",
       "    </tr>\n",
       "    <tr>\n",
       "      <th>4</th>\n",
       "      <td>224</td>\n",
       "      <td>224</td>\n",
       "      <td>0</td>\n",
       "    </tr>\n",
       "    <tr>\n",
       "      <th>...</th>\n",
       "      <td>...</td>\n",
       "      <td>...</td>\n",
       "      <td>...</td>\n",
       "    </tr>\n",
       "    <tr>\n",
       "      <th>69</th>\n",
       "      <td>331</td>\n",
       "      <td>365</td>\n",
       "      <td>1</td>\n",
       "    </tr>\n",
       "    <tr>\n",
       "      <th>70</th>\n",
       "      <td>336</td>\n",
       "      <td>350</td>\n",
       "      <td>1</td>\n",
       "    </tr>\n",
       "    <tr>\n",
       "      <th>71</th>\n",
       "      <td>315</td>\n",
       "      <td>386</td>\n",
       "      <td>1</td>\n",
       "    </tr>\n",
       "    <tr>\n",
       "      <th>72</th>\n",
       "      <td>350</td>\n",
       "      <td>386</td>\n",
       "      <td>1</td>\n",
       "    </tr>\n",
       "    <tr>\n",
       "      <th>73</th>\n",
       "      <td>387</td>\n",
       "      <td>362</td>\n",
       "      <td>1</td>\n",
       "    </tr>\n",
       "  </tbody>\n",
       "</table>\n",
       "<p>74 rows × 3 columns</p>\n",
       "</div>"
      ],
      "text/plain": [
       "      0    1  2\n",
       "0   205  205  0\n",
       "1    53  118  1\n",
       "2    28  140  1\n",
       "3   213  227  0\n",
       "4   224  224  0\n",
       "..  ...  ... ..\n",
       "69  331  365  1\n",
       "70  336  350  1\n",
       "71  315  386  1\n",
       "72  350  386  1\n",
       "73  387  362  1\n",
       "\n",
       "[74 rows x 3 columns]"
      ]
     },
     "execution_count": 6,
     "metadata": {},
     "output_type": "execute_result"
    }
   ],
   "source": [
    "df "
   ]
  },
  {
   "cell_type": "code",
   "execution_count": 7,
   "id": "a24d65df",
   "metadata": {},
   "outputs": [
    {
     "data": {
      "text/plain": [
       "0    37\n",
       "1    37\n",
       "Name: 2, dtype: int64"
      ]
     },
     "execution_count": 7,
     "metadata": {},
     "output_type": "execute_result"
    }
   ],
   "source": [
    "df.iloc[:,2].value_counts()"
   ]
  },
  {
   "cell_type": "markdown",
   "id": "fc499fc8",
   "metadata": {},
   "source": [
    "## saving the data to a csv file"
   ]
  },
  {
   "cell_type": "code",
   "execution_count": 10,
   "id": "e2041d09",
   "metadata": {},
   "outputs": [],
   "source": [
    "df.to_csv(\"data_points.csv\",index=False)"
   ]
  },
  {
   "cell_type": "markdown",
   "id": "6ee3d19d",
   "metadata": {},
   "source": [
    "## Import the csv file "
   ]
  },
  {
   "cell_type": "code",
   "execution_count": 11,
   "id": "3ef54108",
   "metadata": {},
   "outputs": [
    {
     "data": {
      "text/html": [
       "<div>\n",
       "<style scoped>\n",
       "    .dataframe tbody tr th:only-of-type {\n",
       "        vertical-align: middle;\n",
       "    }\n",
       "\n",
       "    .dataframe tbody tr th {\n",
       "        vertical-align: top;\n",
       "    }\n",
       "\n",
       "    .dataframe thead th {\n",
       "        text-align: right;\n",
       "    }\n",
       "</style>\n",
       "<table border=\"1\" class=\"dataframe\">\n",
       "  <thead>\n",
       "    <tr style=\"text-align: right;\">\n",
       "      <th></th>\n",
       "      <th>0</th>\n",
       "      <th>1</th>\n",
       "      <th>2</th>\n",
       "    </tr>\n",
       "  </thead>\n",
       "  <tbody>\n",
       "    <tr>\n",
       "      <th>0</th>\n",
       "      <td>205</td>\n",
       "      <td>205</td>\n",
       "      <td>0</td>\n",
       "    </tr>\n",
       "    <tr>\n",
       "      <th>1</th>\n",
       "      <td>53</td>\n",
       "      <td>118</td>\n",
       "      <td>1</td>\n",
       "    </tr>\n",
       "    <tr>\n",
       "      <th>2</th>\n",
       "      <td>28</td>\n",
       "      <td>140</td>\n",
       "      <td>1</td>\n",
       "    </tr>\n",
       "    <tr>\n",
       "      <th>3</th>\n",
       "      <td>213</td>\n",
       "      <td>227</td>\n",
       "      <td>0</td>\n",
       "    </tr>\n",
       "    <tr>\n",
       "      <th>4</th>\n",
       "      <td>224</td>\n",
       "      <td>224</td>\n",
       "      <td>0</td>\n",
       "    </tr>\n",
       "  </tbody>\n",
       "</table>\n",
       "</div>"
      ],
      "text/plain": [
       "     0    1  2\n",
       "0  205  205  0\n",
       "1   53  118  1\n",
       "2   28  140  1\n",
       "3  213  227  0\n",
       "4  224  224  0"
      ]
     },
     "execution_count": 11,
     "metadata": {},
     "output_type": "execute_result"
    }
   ],
   "source": [
    "df=pd.read_csv(\"data_points.csv\")\n",
    "df.head() "
   ]
  },
  {
   "cell_type": "markdown",
   "id": "96c3263f",
   "metadata": {},
   "source": [
    "## splitting into input and output features"
   ]
  },
  {
   "cell_type": "code",
   "execution_count": 12,
   "id": "0ce34486",
   "metadata": {},
   "outputs": [],
   "source": [
    "x=df.iloc[:,0:2]\n",
    "y=df.iloc[:,2].astype(int)"
   ]
  },
  {
   "cell_type": "markdown",
   "id": "4b254951",
   "metadata": {},
   "source": [
    "## splitting the data into train and test "
   ]
  },
  {
   "cell_type": "code",
   "execution_count": 13,
   "id": "b3a2660a",
   "metadata": {},
   "outputs": [],
   "source": [
    "x_train,x_test,y_train,y_test=train_test_split(x,y,test_size=0.1) "
   ]
  },
  {
   "cell_type": "markdown",
   "id": "fed00996",
   "metadata": {},
   "source": [
    "## Standardizing the input features"
   ]
  },
  {
   "cell_type": "code",
   "execution_count": 14,
   "id": "94ca3937",
   "metadata": {},
   "outputs": [],
   "source": [
    "std=StandardScaler()\n",
    "X_train=std.fit_transform(x_train)\n",
    "X_test=std.transform(x_test) "
   ]
  },
  {
   "cell_type": "markdown",
   "id": "cd9da9ea",
   "metadata": {},
   "source": [
    "## creating the logical structure"
   ]
  },
  {
   "cell_type": "code",
   "execution_count": 15,
   "id": "8aa1357b",
   "metadata": {},
   "outputs": [],
   "source": [
    "model=Sequential()\n",
    "model.add(Dense(8,activation=\"relu\",input_dim=2)) \n",
    "model.add(Dense(6,activation=\"relu\"))\n",
    "model.add(Dense(1,activation=\"sigmoid\"))"
   ]
  },
  {
   "cell_type": "code",
   "execution_count": 16,
   "id": "674ef058",
   "metadata": {},
   "outputs": [
    {
     "name": "stdout",
     "output_type": "stream",
     "text": [
      "Model: \"sequential\"\n",
      "_________________________________________________________________\n",
      " Layer (type)                Output Shape              Param #   \n",
      "=================================================================\n",
      " dense (Dense)               (None, 8)                 24        \n",
      "                                                                 \n",
      " dense_1 (Dense)             (None, 6)                 54        \n",
      "                                                                 \n",
      " dense_2 (Dense)             (None, 1)                 7         \n",
      "                                                                 \n",
      "=================================================================\n",
      "Total params: 85 (340.00 Byte)\n",
      "Trainable params: 85 (340.00 Byte)\n",
      "Non-trainable params: 0 (0.00 Byte)\n",
      "_________________________________________________________________\n"
     ]
    }
   ],
   "source": [
    "model.summary()  "
   ]
  },
  {
   "cell_type": "markdown",
   "id": "1f3f1311",
   "metadata": {},
   "source": [
    "## compiling the model"
   ]
  },
  {
   "cell_type": "code",
   "execution_count": 17,
   "id": "709dcd6c",
   "metadata": {},
   "outputs": [],
   "source": [
    "from keras.optimizers import SGD "
   ]
  },
  {
   "cell_type": "code",
   "execution_count": 27,
   "id": "1f5406e3",
   "metadata": {},
   "outputs": [
    {
     "name": "stdout",
     "output_type": "stream",
     "text": [
      "Epoch 1/100\n",
      "6/6 [==============================] - 1s 54ms/step - loss: 0.4776 - accuracy: 0.8983 - val_loss: 0.4683 - val_accuracy: 1.0000\n",
      "Epoch 2/100\n",
      "6/6 [==============================] - 0s 13ms/step - loss: 0.4760 - accuracy: 0.8983 - val_loss: 0.4669 - val_accuracy: 1.0000\n",
      "Epoch 3/100\n",
      "6/6 [==============================] - 0s 14ms/step - loss: 0.4743 - accuracy: 0.8983 - val_loss: 0.4654 - val_accuracy: 1.0000\n",
      "Epoch 4/100\n",
      "6/6 [==============================] - 0s 13ms/step - loss: 0.4728 - accuracy: 0.8983 - val_loss: 0.4638 - val_accuracy: 1.0000\n",
      "Epoch 5/100\n",
      "6/6 [==============================] - 0s 13ms/step - loss: 0.4716 - accuracy: 0.8983 - val_loss: 0.4622 - val_accuracy: 1.0000\n",
      "Epoch 6/100\n",
      "6/6 [==============================] - 0s 12ms/step - loss: 0.4701 - accuracy: 0.8983 - val_loss: 0.4608 - val_accuracy: 1.0000\n",
      "Epoch 7/100\n",
      "6/6 [==============================] - 0s 12ms/step - loss: 0.4685 - accuracy: 0.8983 - val_loss: 0.4592 - val_accuracy: 1.0000\n",
      "Epoch 8/100\n",
      "6/6 [==============================] - 0s 12ms/step - loss: 0.4671 - accuracy: 0.8983 - val_loss: 0.4578 - val_accuracy: 1.0000\n",
      "Epoch 9/100\n",
      "6/6 [==============================] - 0s 12ms/step - loss: 0.4657 - accuracy: 0.9153 - val_loss: 0.4561 - val_accuracy: 1.0000\n",
      "Epoch 10/100\n",
      "6/6 [==============================] - 0s 13ms/step - loss: 0.4638 - accuracy: 0.8983 - val_loss: 0.4547 - val_accuracy: 1.0000\n",
      "Epoch 11/100\n",
      "6/6 [==============================] - 0s 14ms/step - loss: 0.4629 - accuracy: 0.9153 - val_loss: 0.4532 - val_accuracy: 1.0000\n",
      "Epoch 12/100\n",
      "6/6 [==============================] - 0s 13ms/step - loss: 0.4609 - accuracy: 0.8983 - val_loss: 0.4518 - val_accuracy: 1.0000\n",
      "Epoch 13/100\n",
      "6/6 [==============================] - 0s 12ms/step - loss: 0.4600 - accuracy: 0.9153 - val_loss: 0.4503 - val_accuracy: 1.0000\n",
      "Epoch 14/100\n",
      "6/6 [==============================] - 0s 12ms/step - loss: 0.4581 - accuracy: 0.8983 - val_loss: 0.4487 - val_accuracy: 1.0000\n",
      "Epoch 15/100\n",
      "6/6 [==============================] - 0s 12ms/step - loss: 0.4564 - accuracy: 0.8983 - val_loss: 0.4473 - val_accuracy: 1.0000\n",
      "Epoch 16/100\n",
      "6/6 [==============================] - 0s 12ms/step - loss: 0.4554 - accuracy: 0.8983 - val_loss: 0.4457 - val_accuracy: 1.0000\n",
      "Epoch 17/100\n",
      "6/6 [==============================] - 0s 13ms/step - loss: 0.4537 - accuracy: 0.8983 - val_loss: 0.4443 - val_accuracy: 1.0000\n",
      "Epoch 18/100\n",
      "6/6 [==============================] - 0s 14ms/step - loss: 0.4522 - accuracy: 0.8983 - val_loss: 0.4427 - val_accuracy: 1.0000\n",
      "Epoch 19/100\n",
      "6/6 [==============================] - 0s 12ms/step - loss: 0.4508 - accuracy: 0.8983 - val_loss: 0.4412 - val_accuracy: 1.0000\n",
      "Epoch 20/100\n",
      "6/6 [==============================] - 0s 12ms/step - loss: 0.4492 - accuracy: 0.8983 - val_loss: 0.4397 - val_accuracy: 1.0000\n",
      "Epoch 21/100\n",
      "6/6 [==============================] - 0s 12ms/step - loss: 0.4482 - accuracy: 0.9153 - val_loss: 0.4382 - val_accuracy: 1.0000\n",
      "Epoch 22/100\n",
      "6/6 [==============================] - 0s 13ms/step - loss: 0.4464 - accuracy: 0.8983 - val_loss: 0.4366 - val_accuracy: 1.0000\n",
      "Epoch 23/100\n",
      "6/6 [==============================] - 0s 12ms/step - loss: 0.4451 - accuracy: 0.8983 - val_loss: 0.4352 - val_accuracy: 1.0000\n",
      "Epoch 24/100\n",
      "6/6 [==============================] - 0s 14ms/step - loss: 0.4435 - accuracy: 0.8983 - val_loss: 0.4337 - val_accuracy: 1.0000\n",
      "Epoch 25/100\n",
      "6/6 [==============================] - 0s 14ms/step - loss: 0.4421 - accuracy: 0.8983 - val_loss: 0.4322 - val_accuracy: 1.0000\n",
      "Epoch 26/100\n",
      "6/6 [==============================] - 0s 14ms/step - loss: 0.4409 - accuracy: 0.8983 - val_loss: 0.4304 - val_accuracy: 1.0000\n",
      "Epoch 27/100\n",
      "6/6 [==============================] - 0s 13ms/step - loss: 0.4391 - accuracy: 0.8983 - val_loss: 0.4289 - val_accuracy: 1.0000\n",
      "Epoch 28/100\n",
      "6/6 [==============================] - 0s 12ms/step - loss: 0.4377 - accuracy: 0.8983 - val_loss: 0.4276 - val_accuracy: 1.0000\n",
      "Epoch 29/100\n",
      "6/6 [==============================] - 0s 13ms/step - loss: 0.4368 - accuracy: 0.8983 - val_loss: 0.4263 - val_accuracy: 1.0000\n",
      "Epoch 30/100\n",
      "6/6 [==============================] - 0s 13ms/step - loss: 0.4349 - accuracy: 0.8983 - val_loss: 0.4247 - val_accuracy: 1.0000\n",
      "Epoch 31/100\n",
      "6/6 [==============================] - 0s 14ms/step - loss: 0.4337 - accuracy: 0.8983 - val_loss: 0.4234 - val_accuracy: 1.0000\n",
      "Epoch 32/100\n",
      "6/6 [==============================] - 0s 13ms/step - loss: 0.4320 - accuracy: 0.8983 - val_loss: 0.4218 - val_accuracy: 1.0000\n",
      "Epoch 33/100\n",
      "6/6 [==============================] - 0s 14ms/step - loss: 0.4308 - accuracy: 0.8983 - val_loss: 0.4202 - val_accuracy: 1.0000\n",
      "Epoch 34/100\n",
      "6/6 [==============================] - 0s 17ms/step - loss: 0.4293 - accuracy: 0.8983 - val_loss: 0.4188 - val_accuracy: 1.0000\n",
      "Epoch 35/100\n",
      "6/6 [==============================] - 0s 17ms/step - loss: 0.4279 - accuracy: 0.9153 - val_loss: 0.4172 - val_accuracy: 1.0000\n",
      "Epoch 36/100\n",
      "6/6 [==============================] - 0s 13ms/step - loss: 0.4266 - accuracy: 0.9322 - val_loss: 0.4158 - val_accuracy: 1.0000\n",
      "Epoch 37/100\n",
      "6/6 [==============================] - 0s 13ms/step - loss: 0.4252 - accuracy: 0.9322 - val_loss: 0.4143 - val_accuracy: 1.0000\n",
      "Epoch 38/100\n",
      "6/6 [==============================] - 0s 14ms/step - loss: 0.4242 - accuracy: 0.9492 - val_loss: 0.4126 - val_accuracy: 1.0000\n",
      "Epoch 39/100\n",
      "6/6 [==============================] - 0s 13ms/step - loss: 0.4222 - accuracy: 0.9322 - val_loss: 0.4111 - val_accuracy: 1.0000\n",
      "Epoch 40/100\n",
      "6/6 [==============================] - 0s 12ms/step - loss: 0.4209 - accuracy: 0.9322 - val_loss: 0.4097 - val_accuracy: 1.0000\n",
      "Epoch 41/100\n",
      "6/6 [==============================] - 0s 13ms/step - loss: 0.4196 - accuracy: 0.9322 - val_loss: 0.4082 - val_accuracy: 1.0000\n",
      "Epoch 42/100\n",
      "6/6 [==============================] - 0s 13ms/step - loss: 0.4179 - accuracy: 0.9322 - val_loss: 0.4067 - val_accuracy: 1.0000\n",
      "Epoch 43/100\n",
      "6/6 [==============================] - 0s 15ms/step - loss: 0.4166 - accuracy: 0.9322 - val_loss: 0.4052 - val_accuracy: 1.0000\n",
      "Epoch 44/100\n",
      "6/6 [==============================] - 0s 15ms/step - loss: 0.4156 - accuracy: 0.9322 - val_loss: 0.4038 - val_accuracy: 1.0000\n",
      "Epoch 45/100\n",
      "6/6 [==============================] - 0s 13ms/step - loss: 0.4139 - accuracy: 0.9322 - val_loss: 0.4023 - val_accuracy: 1.0000\n",
      "Epoch 46/100\n",
      "6/6 [==============================] - 0s 13ms/step - loss: 0.4123 - accuracy: 0.9322 - val_loss: 0.4010 - val_accuracy: 1.0000\n",
      "Epoch 47/100\n",
      "6/6 [==============================] - 0s 12ms/step - loss: 0.4115 - accuracy: 0.9322 - val_loss: 0.3995 - val_accuracy: 1.0000\n",
      "Epoch 48/100\n",
      "6/6 [==============================] - 0s 13ms/step - loss: 0.4103 - accuracy: 0.9322 - val_loss: 0.3981 - val_accuracy: 1.0000\n",
      "Epoch 49/100\n",
      "6/6 [==============================] - 0s 12ms/step - loss: 0.4082 - accuracy: 0.9492 - val_loss: 0.3965 - val_accuracy: 1.0000\n",
      "Epoch 50/100\n",
      "6/6 [==============================] - 0s 15ms/step - loss: 0.4069 - accuracy: 0.9492 - val_loss: 0.3949 - val_accuracy: 1.0000\n",
      "Epoch 51/100\n",
      "6/6 [==============================] - 0s 13ms/step - loss: 0.4061 - accuracy: 0.9492 - val_loss: 0.3936 - val_accuracy: 1.0000\n",
      "Epoch 52/100\n",
      "6/6 [==============================] - 0s 13ms/step - loss: 0.4044 - accuracy: 0.9492 - val_loss: 0.3922 - val_accuracy: 1.0000\n",
      "Epoch 53/100\n",
      "6/6 [==============================] - 0s 14ms/step - loss: 0.4027 - accuracy: 0.9492 - val_loss: 0.3906 - val_accuracy: 1.0000\n",
      "Epoch 54/100\n",
      "6/6 [==============================] - 0s 12ms/step - loss: 0.4014 - accuracy: 0.9492 - val_loss: 0.3891 - val_accuracy: 1.0000\n",
      "Epoch 55/100\n",
      "6/6 [==============================] - 0s 12ms/step - loss: 0.4002 - accuracy: 0.9492 - val_loss: 0.3874 - val_accuracy: 1.0000\n",
      "Epoch 56/100\n",
      "6/6 [==============================] - 0s 12ms/step - loss: 0.3985 - accuracy: 0.9492 - val_loss: 0.3859 - val_accuracy: 1.0000\n",
      "Epoch 57/100\n",
      "6/6 [==============================] - 0s 12ms/step - loss: 0.3973 - accuracy: 0.9492 - val_loss: 0.3846 - val_accuracy: 1.0000\n",
      "Epoch 58/100\n",
      "6/6 [==============================] - 0s 12ms/step - loss: 0.3965 - accuracy: 0.9492 - val_loss: 0.3832 - val_accuracy: 1.0000\n",
      "Epoch 59/100\n"
     ]
    },
    {
     "name": "stdout",
     "output_type": "stream",
     "text": [
      "6/6 [==============================] - 0s 13ms/step - loss: 0.3948 - accuracy: 0.9492 - val_loss: 0.3817 - val_accuracy: 1.0000\n",
      "Epoch 60/100\n",
      "6/6 [==============================] - 0s 12ms/step - loss: 0.3932 - accuracy: 0.9492 - val_loss: 0.3803 - val_accuracy: 1.0000\n",
      "Epoch 61/100\n",
      "6/6 [==============================] - 0s 11ms/step - loss: 0.3919 - accuracy: 0.9661 - val_loss: 0.3788 - val_accuracy: 1.0000\n",
      "Epoch 62/100\n",
      "6/6 [==============================] - 0s 12ms/step - loss: 0.3904 - accuracy: 0.9492 - val_loss: 0.3772 - val_accuracy: 1.0000\n",
      "Epoch 63/100\n",
      "6/6 [==============================] - 0s 11ms/step - loss: 0.3892 - accuracy: 0.9492 - val_loss: 0.3758 - val_accuracy: 1.0000\n",
      "Epoch 64/100\n",
      "6/6 [==============================] - 0s 11ms/step - loss: 0.3878 - accuracy: 0.9492 - val_loss: 0.3743 - val_accuracy: 1.0000\n",
      "Epoch 65/100\n",
      "6/6 [==============================] - 0s 12ms/step - loss: 0.3866 - accuracy: 0.9661 - val_loss: 0.3727 - val_accuracy: 1.0000\n",
      "Epoch 66/100\n",
      "6/6 [==============================] - 0s 12ms/step - loss: 0.3859 - accuracy: 0.9492 - val_loss: 0.3714 - val_accuracy: 1.0000\n",
      "Epoch 67/100\n",
      "6/6 [==============================] - 0s 11ms/step - loss: 0.3839 - accuracy: 0.9661 - val_loss: 0.3699 - val_accuracy: 1.0000\n",
      "Epoch 68/100\n",
      "6/6 [==============================] - 0s 12ms/step - loss: 0.3830 - accuracy: 0.9661 - val_loss: 0.3684 - val_accuracy: 1.0000\n",
      "Epoch 69/100\n",
      "6/6 [==============================] - 0s 12ms/step - loss: 0.3812 - accuracy: 0.9661 - val_loss: 0.3667 - val_accuracy: 1.0000\n",
      "Epoch 70/100\n",
      "6/6 [==============================] - 0s 12ms/step - loss: 0.3796 - accuracy: 0.9492 - val_loss: 0.3654 - val_accuracy: 1.0000\n",
      "Epoch 71/100\n",
      "6/6 [==============================] - 0s 12ms/step - loss: 0.3785 - accuracy: 0.9492 - val_loss: 0.3640 - val_accuracy: 1.0000\n",
      "Epoch 72/100\n",
      "6/6 [==============================] - 0s 12ms/step - loss: 0.3772 - accuracy: 0.9661 - val_loss: 0.3624 - val_accuracy: 1.0000\n",
      "Epoch 73/100\n",
      "6/6 [==============================] - 0s 12ms/step - loss: 0.3757 - accuracy: 0.9661 - val_loss: 0.3608 - val_accuracy: 1.0000\n",
      "Epoch 74/100\n",
      "6/6 [==============================] - 0s 12ms/step - loss: 0.3744 - accuracy: 0.9661 - val_loss: 0.3593 - val_accuracy: 1.0000\n",
      "Epoch 75/100\n",
      "6/6 [==============================] - 0s 12ms/step - loss: 0.3731 - accuracy: 0.9492 - val_loss: 0.3580 - val_accuracy: 1.0000\n",
      "Epoch 76/100\n",
      "6/6 [==============================] - 0s 12ms/step - loss: 0.3723 - accuracy: 0.9661 - val_loss: 0.3563 - val_accuracy: 1.0000\n",
      "Epoch 77/100\n",
      "6/6 [==============================] - 0s 12ms/step - loss: 0.3705 - accuracy: 0.9492 - val_loss: 0.3549 - val_accuracy: 1.0000\n",
      "Epoch 78/100\n",
      "6/6 [==============================] - 0s 12ms/step - loss: 0.3697 - accuracy: 0.9661 - val_loss: 0.3533 - val_accuracy: 1.0000\n",
      "Epoch 79/100\n",
      "6/6 [==============================] - 0s 11ms/step - loss: 0.3679 - accuracy: 0.9492 - val_loss: 0.3518 - val_accuracy: 1.0000\n",
      "Epoch 80/100\n",
      "6/6 [==============================] - 0s 12ms/step - loss: 0.3668 - accuracy: 0.9492 - val_loss: 0.3507 - val_accuracy: 1.0000\n",
      "Epoch 81/100\n",
      "6/6 [==============================] - 0s 11ms/step - loss: 0.3653 - accuracy: 0.9661 - val_loss: 0.3492 - val_accuracy: 1.0000\n",
      "Epoch 82/100\n",
      "6/6 [==============================] - 0s 12ms/step - loss: 0.3644 - accuracy: 0.9661 - val_loss: 0.3478 - val_accuracy: 1.0000\n",
      "Epoch 83/100\n",
      "6/6 [==============================] - 0s 12ms/step - loss: 0.3631 - accuracy: 0.9661 - val_loss: 0.3465 - val_accuracy: 1.0000\n",
      "Epoch 84/100\n",
      "6/6 [==============================] - 0s 12ms/step - loss: 0.3617 - accuracy: 0.9661 - val_loss: 0.3451 - val_accuracy: 1.0000\n",
      "Epoch 85/100\n",
      "6/6 [==============================] - 0s 13ms/step - loss: 0.3604 - accuracy: 0.9661 - val_loss: 0.3437 - val_accuracy: 1.0000\n",
      "Epoch 86/100\n",
      "6/6 [==============================] - 0s 12ms/step - loss: 0.3590 - accuracy: 0.9661 - val_loss: 0.3422 - val_accuracy: 1.0000\n",
      "Epoch 87/100\n",
      "6/6 [==============================] - 0s 12ms/step - loss: 0.3577 - accuracy: 0.9661 - val_loss: 0.3409 - val_accuracy: 1.0000\n",
      "Epoch 88/100\n",
      "6/6 [==============================] - 0s 12ms/step - loss: 0.3573 - accuracy: 0.9661 - val_loss: 0.3392 - val_accuracy: 1.0000\n",
      "Epoch 89/100\n",
      "6/6 [==============================] - 0s 12ms/step - loss: 0.3551 - accuracy: 0.9661 - val_loss: 0.3380 - val_accuracy: 1.0000\n",
      "Epoch 90/100\n",
      "6/6 [==============================] - 0s 16ms/step - loss: 0.3540 - accuracy: 0.9661 - val_loss: 0.3368 - val_accuracy: 1.0000\n",
      "Epoch 91/100\n",
      "6/6 [==============================] - 0s 12ms/step - loss: 0.3527 - accuracy: 0.9661 - val_loss: 0.3355 - val_accuracy: 1.0000\n",
      "Epoch 92/100\n",
      "6/6 [==============================] - 0s 12ms/step - loss: 0.3517 - accuracy: 0.9661 - val_loss: 0.3339 - val_accuracy: 1.0000\n",
      "Epoch 93/100\n",
      "6/6 [==============================] - 0s 12ms/step - loss: 0.3504 - accuracy: 0.9661 - val_loss: 0.3325 - val_accuracy: 1.0000\n",
      "Epoch 94/100\n",
      "6/6 [==============================] - 0s 12ms/step - loss: 0.3496 - accuracy: 0.9661 - val_loss: 0.3309 - val_accuracy: 1.0000\n",
      "Epoch 95/100\n",
      "6/6 [==============================] - 0s 12ms/step - loss: 0.3486 - accuracy: 0.9661 - val_loss: 0.3293 - val_accuracy: 1.0000\n",
      "Epoch 96/100\n",
      "6/6 [==============================] - 0s 12ms/step - loss: 0.3467 - accuracy: 0.9661 - val_loss: 0.3278 - val_accuracy: 1.0000\n",
      "Epoch 97/100\n",
      "6/6 [==============================] - 0s 12ms/step - loss: 0.3459 - accuracy: 0.9661 - val_loss: 0.3267 - val_accuracy: 1.0000\n",
      "Epoch 98/100\n",
      "6/6 [==============================] - 0s 12ms/step - loss: 0.3448 - accuracy: 0.9661 - val_loss: 0.3252 - val_accuracy: 1.0000\n",
      "Epoch 99/100\n",
      "6/6 [==============================] - 0s 12ms/step - loss: 0.3427 - accuracy: 0.9661 - val_loss: 0.3238 - val_accuracy: 1.0000\n",
      "Epoch 100/100\n",
      "6/6 [==============================] - 0s 13ms/step - loss: 0.3420 - accuracy: 0.9661 - val_loss: 0.3227 - val_accuracy: 1.0000\n"
     ]
    }
   ],
   "source": [
    "model.compile(loss=\"binary_crossentropy\",optimizer=SGD(0.01),metrics=[\"accuracy\"])\n",
    "history=model.fit(X_train,y_train,batch_size=10,epochs=100,validation_split=0.1)"
   ]
  },
  {
   "cell_type": "code",
   "execution_count": 28,
   "id": "d4bd8eee",
   "metadata": {},
   "outputs": [
    {
     "data": {
      "text/plain": [
       "<matplotlib.legend.Legend at 0x1c735309850>"
      ]
     },
     "execution_count": 28,
     "metadata": {},
     "output_type": "execute_result"
    },
    {
     "data": {
      "image/png": "[encoded data removed]",
      "text/plain": [
       "<Figure size 640x480 with 1 Axes>"
      ]
     },
     "metadata": {},
     "output_type": "display_data"
    }
   ],
   "source": [
    "plt.plot(range(1,101),history.history[\"loss\"],label=\"train_loss\")\n",
    "plt.plot(range(1,101),history.history[\"val_loss\"],label=\"test_loss\") \n",
    "plt.legend()  "
   ]
  },
  {
   "cell_type": "markdown",
   "id": "9d23eeaf",
   "metadata": {},
   "source": [
    "## make predictions using the model"
   ]
  },
  {
   "cell_type": "code",
   "execution_count": 29,
   "id": "c6af9746",
   "metadata": {},
   "outputs": [
    {
     "name": "stdout",
     "output_type": "stream",
     "text": [
      "1/1 [==============================] - 0s 82ms/step\n"
     ]
    },
    {
     "data": {
      "text/plain": [
       "array([[0.62713635],\n",
       "       [0.8625461 ],\n",
       "       [0.29222235],\n",
       "       [0.2500447 ],\n",
       "       [0.40132794],\n",
       "       [0.24154547],\n",
       "       [0.23016831],\n",
       "       [0.7981351 ]], dtype=float32)"
      ]
     },
     "execution_count": 29,
     "metadata": {},
     "output_type": "execute_result"
    }
   ],
   "source": [
    "predicted=model.predict(X_test)\n",
    "predicted "
   ]
  },
  {
   "cell_type": "code",
   "execution_count": 30,
   "id": "2c6d5bc1",
   "metadata": {},
   "outputs": [
    {
     "data": {
      "text/plain": [
       "array([[1],\n",
       "       [1],\n",
       "       [0],\n",
       "       [0],\n",
       "       [0],\n",
       "       [0],\n",
       "       [0],\n",
       "       [1]])"
      ]
     },
     "execution_count": 30,
     "metadata": {},
     "output_type": "execute_result"
    }
   ],
   "source": [
    "predicted=np.where(predicted>0.5,1,0)\n",
    "predicted "
   ]
  },
  {
   "cell_type": "markdown",
   "id": "6d250032",
   "metadata": {},
   "source": [
    "## evaluating the model"
   ]
  },
  {
   "cell_type": "code",
   "execution_count": 31,
   "id": "6cdd36ea",
   "metadata": {},
   "outputs": [
    {
     "name": "stdout",
     "output_type": "stream",
     "text": [
      "1.0\n"
     ]
    },
    {
     "data": {
      "image/png": "[encoded data removed]",
      "text/plain": [
       "<Figure size 640x480 with 2 Axes>"
      ]
     },
     "metadata": {},
     "output_type": "display_data"
    }
   ],
   "source": [
    "from sklearn.metrics import accuracy_score,confusion_matrix,ConfusionMatrixDisplay\n",
    "print(accuracy_score(y_test,predicted))\n",
    "cm=confusion_matrix(y_test,predicted)\n",
    "va=ConfusionMatrixDisplay(cm)\n",
    "va.plot() \n",
    "plt.show() \n",
    " "
   ]
  },
  {
   "cell_type": "markdown",
   "id": "504b2600",
   "metadata": {},
   "source": [
    "## plotting the decision surface"
   ]
  },
  {
   "cell_type": "code",
   "execution_count": 32,
   "id": "c759073e",
   "metadata": {},
   "outputs": [],
   "source": [
    "from mlxtend.plotting  import plot_decision_regions "
   ]
  },
  {
   "cell_type": "code",
   "execution_count": 33,
   "id": "d0798056",
   "metadata": {},
   "outputs": [
    {
     "name": "stdout",
     "output_type": "stream",
     "text": [
      "9600/9600 [==============================] - 21s 2ms/step\n"
     ]
    },
    {
     "data": {
      "text/plain": [
       "<AxesSubplot:>"
      ]
     },
     "execution_count": 33,
     "metadata": {},
     "output_type": "execute_result"
    },
    {
     "data": {
      "image/png": "[encoded data removed]",
      "text/plain": [
       "<Figure size 640x480 with 1 Axes>"
      ]
     },
     "metadata": {},
     "output_type": "display_data"
    }
   ],
   "source": [
    "plot_decision_regions(X_train,y_train.values,clf=model) "
   ]
  },
  {
   "cell_type": "code",
   "execution_count": 34,
   "id": "ed753116",
   "metadata": {},
   "outputs": [
    {
     "name": "stdout",
     "output_type": "stream",
     "text": [
      "9600/9600 [==============================] - 20s 2ms/step\n"
     ]
    },
    {
     "data": {
      "text/plain": [
       "<AxesSubplot:>"
      ]
     },
     "execution_count": 34,
     "metadata": {},
     "output_type": "execute_result"
    },
    {
     "data": {
      "image/png": "[encoded data removed]",
      "text/plain": [
       "<Figure size 640x480 with 1 Axes>"
      ]
     },
     "metadata": {},
     "output_type": "display_data"
    }
   ],
   "source": [
    "#for test data \n",
    "plot_decision_regions(X_test,y_test.values,clf=model) "
   ]
  },
  {
   "cell_type": "markdown",
   "id": "d3cc3e67",
   "metadata": {},
   "source": [
    "## Conclusions:\n",
    "\n",
    "###### This neural network model achieves an accuracy of 96%. The model architecture consists of 2 hidden layers with the following specifications:\n",
    "\n",
    "- In the first hidden layer, there are 8 neurons with the ReLU activation function.\n",
    "- In the second hidden layer, there are 6 neurons with the ReLU activation function.\n",
    "\n",
    "\n",
    "###### The output layer uses the sigmoid activation function.\n",
    "\n",
    "###### Loss function: Binary cross-entropy.\n",
    "- Optimizer: Stochastic Gradient Descent (SGD) with a batch size of 5 and a learning rate of 0.01.\n",
    "- The model was trained for 100 epochs.\n"
   ]
  },
  {
   "cell_type": "code",
   "execution_count": null,
   "id": "157f0a24",
   "metadata": {},
   "outputs": [],
   "source": []
  }
 ],
 "metadata": {
  "kernelspec": {
   "display_name": "Python 3 (ipykernel)",
   "language": "python",
   "name": "python3"
  },
  "language_info": {
   "codemirror_mode": {
    "name": "ipython",
    "version": 3
   },
   "file_extension": ".py",
   "mimetype": "text/x-python",
   "name": "python",
   "nbconvert_exporter": "python",
   "pygments_lexer": "ipython3",
   "version": "3.9.13"
  }
 },
 "nbformat": 4,
 "nbformat_minor": 5
}

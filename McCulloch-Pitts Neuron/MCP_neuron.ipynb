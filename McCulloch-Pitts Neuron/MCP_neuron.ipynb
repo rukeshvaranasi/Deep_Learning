{
 "cells": [
  {
   "cell_type": "code",
   "execution_count": 4,
   "id": "465263d3",
   "metadata": {},
   "outputs": [
    {
     "name": "stdout",
     "output_type": "stream",
     "text": [
      "enter the input1 : 1\n",
      "enter the input2 : 0\n",
      "---------------------\n",
      "And Gate input : 1 0\n",
      "And Gate output : 0\n",
      "---------------------\n",
      "OR Gate input : 1 0\n",
      "Or Gate Output : 1\n"
     ]
    }
   ],
   "source": [
    "def and_gate(inp1,inp2):\n",
    "\n",
    "        print(\"And Gate input :\",inp1,inp2)\n",
    "        g=inp1+inp2\n",
    "        print(\"And Gate output :\",1) if g>=2 else print(\"And Gate output :\",0)\n",
    "        print(\"---------------------\")\n",
    "\n",
    "def or_gate(inp1,inp2):\n",
    "\n",
    "        print(\"OR Gate input :\",inp1,inp2)\n",
    "        g=inp1+inp2\n",
    "        print(\"Or Gate Output :\",1) if g>=1 else print(\"Or Gate Output :\",0)\n",
    "\n",
    "inp1=int(input(\"enter the input1 : \"))\n",
    "inp2=int(input(\"enter the input2 : \"))\n",
    "print(\"---------------------\")\n",
    "\n",
    "and_gate(inp1,inp2)\n",
    "or_gate(inp1,inp2)"
   ]
  },
  {
   "cell_type": "code",
   "execution_count": null,
   "id": "efdca47c",
   "metadata": {},
   "outputs": [],
   "source": []
  }
 ],
 "metadata": {
  "kernelspec": {
   "display_name": "Python 3 (ipykernel)",
   "language": "python",
   "name": "python3"
  },
  "language_info": {
   "codemirror_mode": {
    "name": "ipython",
    "version": 3
   },
   "file_extension": ".py",
   "mimetype": "text/x-python",
   "name": "python",
   "nbconvert_exporter": "python",
   "pygments_lexer": "ipython3",
   "version": "3.9.13"
  }
 },
 "nbformat": 4,
 "nbformat_minor": 5
}

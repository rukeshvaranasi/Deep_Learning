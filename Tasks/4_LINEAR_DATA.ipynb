{
 "cells": [
  {
   "cell_type": "markdown",
   "id": "5be3d139",
   "metadata": {},
   "source": [
    "## Importing Libraries"
   ]
  },
  {
   "cell_type": "code",
   "execution_count": 1,
   "id": "40abc87c",
   "metadata": {},
   "outputs": [],
   "source": [
    "import numpy as np\n",
    "import pandas as pd  \n",
    "import matplotlib.pyplot as plt \n",
    "import seaborn as sns  "
   ]
  },
  {
   "cell_type": "markdown",
   "id": "437f92c6",
   "metadata": {},
   "source": [
    "## Loading the CSV file "
   ]
  },
  {
   "cell_type": "code",
   "execution_count": 2,
   "id": "a99e2cdc",
   "metadata": {},
   "outputs": [
    {
     "data": {
      "text/html": [
       "<div>\n",
       "<style scoped>\n",
       "    .dataframe tbody tr th:only-of-type {\n",
       "        vertical-align: middle;\n",
       "    }\n",
       "\n",
       "    .dataframe tbody tr th {\n",
       "        vertical-align: top;\n",
       "    }\n",
       "\n",
       "    .dataframe thead th {\n",
       "        text-align: right;\n",
       "    }\n",
       "</style>\n",
       "<table border=\"1\" class=\"dataframe\">\n",
       "  <thead>\n",
       "    <tr style=\"text-align: right;\">\n",
       "      <th></th>\n",
       "      <th>0</th>\n",
       "      <th>1</th>\n",
       "      <th>2</th>\n",
       "    </tr>\n",
       "  </thead>\n",
       "  <tbody>\n",
       "    <tr>\n",
       "      <th>0</th>\n",
       "      <td>-0.177497</td>\n",
       "      <td>0.930496</td>\n",
       "      <td>1.0</td>\n",
       "    </tr>\n",
       "    <tr>\n",
       "      <th>1</th>\n",
       "      <td>1.977424</td>\n",
       "      <td>1.766155</td>\n",
       "      <td>0.0</td>\n",
       "    </tr>\n",
       "    <tr>\n",
       "      <th>2</th>\n",
       "      <td>1.800024</td>\n",
       "      <td>1.700343</td>\n",
       "      <td>0.0</td>\n",
       "    </tr>\n",
       "    <tr>\n",
       "      <th>3</th>\n",
       "      <td>-0.770837</td>\n",
       "      <td>2.359163</td>\n",
       "      <td>1.0</td>\n",
       "    </tr>\n",
       "    <tr>\n",
       "      <th>4</th>\n",
       "      <td>-0.308009</td>\n",
       "      <td>1.594063</td>\n",
       "      <td>1.0</td>\n",
       "    </tr>\n",
       "  </tbody>\n",
       "</table>\n",
       "</div>"
      ],
      "text/plain": [
       "          0         1    2\n",
       "0 -0.177497  0.930496  1.0\n",
       "1  1.977424  1.766155  0.0\n",
       "2  1.800024  1.700343  0.0\n",
       "3 -0.770837  2.359163  1.0\n",
       "4 -0.308009  1.594063  1.0"
      ]
     },
     "execution_count": 2,
     "metadata": {},
     "output_type": "execute_result"
    }
   ],
   "source": [
    "df=pd.read_csv(r\"C:\\Users\\ADMIN\\Downloads\\PYTHON FILES\\Deep_Learning\\Assignments & Projects\\Assignment 4\\Multiple CSV/4.linearsep.csv\",header=None) \n",
    "df.head() "
   ]
  },
  {
   "cell_type": "code",
   "execution_count": 3,
   "id": "9b109e72",
   "metadata": {},
   "outputs": [
    {
     "name": "stdout",
     "output_type": "stream",
     "text": [
      "<class 'pandas.core.frame.DataFrame'>\n",
      "RangeIndex: 100 entries, 0 to 99\n",
      "Data columns (total 3 columns):\n",
      " #   Column  Non-Null Count  Dtype  \n",
      "---  ------  --------------  -----  \n",
      " 0   0       100 non-null    float64\n",
      " 1   1       100 non-null    float64\n",
      " 2   2       100 non-null    float64\n",
      "dtypes: float64(3)\n",
      "memory usage: 2.5 KB\n"
     ]
    }
   ],
   "source": [
    "df.info() "
   ]
  },
  {
   "cell_type": "code",
   "execution_count": 4,
   "id": "c446690c",
   "metadata": {},
   "outputs": [
    {
     "data": {
      "text/plain": [
       "1.0    50\n",
       "0.0    50\n",
       "Name: 2, dtype: int64"
      ]
     },
     "execution_count": 4,
     "metadata": {},
     "output_type": "execute_result"
    }
   ],
   "source": [
    "# Checking whether target variable is imbalanced or not\n",
    "df[2].value_counts()   "
   ]
  },
  {
   "cell_type": "markdown",
   "id": "47048078",
   "metadata": {},
   "source": [
    "## checking outliers"
   ]
  },
  {
   "cell_type": "code",
   "execution_count": 5,
   "id": "d0be3bd7",
   "metadata": {},
   "outputs": [
    {
     "name": "stderr",
     "output_type": "stream",
     "text": [
      "C:\\Users\\ADMIN\\anaconda3\\lib\\site-packages\\seaborn\\_decorators.py:36: FutureWarning: Pass the following variable as a keyword arg: x. From version 0.12, the only valid positional argument will be `data`, and passing other arguments without an explicit keyword will result in an error or misinterpretation.\n",
      "  warnings.warn(\n"
     ]
    },
    {
     "data": {
      "text/plain": [
       "<AxesSubplot:xlabel='0'>"
      ]
     },
     "execution_count": 5,
     "metadata": {},
     "output_type": "execute_result"
    },
    {
     "data": {
      "image/png": "[encoded data removed]",
      "text/plain": [
       "<Figure size 640x480 with 1 Axes>"
      ]
     },
     "metadata": {},
     "output_type": "display_data"
    }
   ],
   "source": [
    "sns.boxplot(df[0]) "
   ]
  },
  {
   "cell_type": "code",
   "execution_count": 6,
   "id": "6ad54a2c",
   "metadata": {},
   "outputs": [
    {
     "name": "stderr",
     "output_type": "stream",
     "text": [
      "C:\\Users\\ADMIN\\anaconda3\\lib\\site-packages\\seaborn\\_decorators.py:36: FutureWarning: Pass the following variable as a keyword arg: x. From version 0.12, the only valid positional argument will be `data`, and passing other arguments without an explicit keyword will result in an error or misinterpretation.\n",
      "  warnings.warn(\n"
     ]
    },
    {
     "data": {
      "text/plain": [
       "<AxesSubplot:xlabel='1'>"
      ]
     },
     "execution_count": 6,
     "metadata": {},
     "output_type": "execute_result"
    },
    {
     "data": {
      "image/png": "[encoded data removed]",
      "text/plain": [
       "<Figure size 640x480 with 1 Axes>"
      ]
     },
     "metadata": {},
     "output_type": "display_data"
    }
   ],
   "source": [
    "sns.boxplot(df[1]) "
   ]
  },
  {
   "cell_type": "code",
   "execution_count": 7,
   "id": "018b78c1",
   "metadata": {},
   "outputs": [],
   "source": [
    "# removing the outliers\n",
    "df=df[df[1]<3.6] "
   ]
  },
  {
   "cell_type": "code",
   "execution_count": 8,
   "id": "d8567821",
   "metadata": {},
   "outputs": [
    {
     "name": "stdout",
     "output_type": "stream",
     "text": [
      "<class 'pandas.core.frame.DataFrame'>\n",
      "Int64Index: 98 entries, 0 to 99\n",
      "Data columns (total 3 columns):\n",
      " #   Column  Non-Null Count  Dtype  \n",
      "---  ------  --------------  -----  \n",
      " 0   0       98 non-null     float64\n",
      " 1   1       98 non-null     float64\n",
      " 2   2       98 non-null     float64\n",
      "dtypes: float64(3)\n",
      "memory usage: 3.1 KB\n"
     ]
    }
   ],
   "source": [
    "df.info() "
   ]
  },
  {
   "cell_type": "code",
   "execution_count": 9,
   "id": "470f2292",
   "metadata": {},
   "outputs": [
    {
     "name": "stderr",
     "output_type": "stream",
     "text": [
      "C:\\Users\\ADMIN\\anaconda3\\lib\\site-packages\\seaborn\\_decorators.py:36: FutureWarning: Pass the following variable as a keyword arg: x. From version 0.12, the only valid positional argument will be `data`, and passing other arguments without an explicit keyword will result in an error or misinterpretation.\n",
      "  warnings.warn(\n"
     ]
    },
    {
     "data": {
      "text/plain": [
       "<AxesSubplot:xlabel='1'>"
      ]
     },
     "execution_count": 9,
     "metadata": {},
     "output_type": "execute_result"
    },
    {
     "data": {
      "image/png": "[encoded data removed]",
      "text/plain": [
       "<Figure size 640x480 with 1 Axes>"
      ]
     },
     "metadata": {},
     "output_type": "display_data"
    }
   ],
   "source": [
    "sns.boxplot(df[1])  "
   ]
  },
  {
   "cell_type": "markdown",
   "id": "062ae0d6",
   "metadata": {},
   "source": [
    "## Identifying Input and Output Features"
   ]
  },
  {
   "cell_type": "code",
   "execution_count": 10,
   "id": "c2f1d6c8",
   "metadata": {},
   "outputs": [],
   "source": [
    "x=df.iloc[:,0:2]\n",
    "y=df.iloc[:,2].astype(int)  "
   ]
  },
  {
   "cell_type": "markdown",
   "id": "bc6aa381",
   "metadata": {},
   "source": [
    "## Spliting the data into train and test"
   ]
  },
  {
   "cell_type": "code",
   "execution_count": 11,
   "id": "4e66ac17",
   "metadata": {},
   "outputs": [],
   "source": [
    "from sklearn.model_selection import train_test_split\n",
    "x_train,x_test,y_train,y_test=train_test_split(x,y,test_size=0.1) "
   ]
  },
  {
   "cell_type": "markdown",
   "id": "9dfd8f22",
   "metadata": {},
   "source": [
    "## Standardising input features "
   ]
  },
  {
   "cell_type": "code",
   "execution_count": 12,
   "id": "01a58ff8",
   "metadata": {},
   "outputs": [],
   "source": [
    "from sklearn.preprocessing import StandardScaler\n",
    "std=StandardScaler()\n",
    "x_train=std.fit_transform(x_train)\n",
    "x_test=std.transform(x_test) "
   ]
  },
  {
   "cell_type": "markdown",
   "id": "b9b620bb",
   "metadata": {},
   "source": [
    "## Build the Logical Structure "
   ]
  },
  {
   "cell_type": "code",
   "execution_count": 13,
   "id": "fcbe15c3-c64f-43c4-8725-afd31ea9fcb0",
   "metadata": {},
   "outputs": [],
   "source": [
    "from keras import Sequential \n",
    "from keras.layers import Dense \n",
    "from keras.regularizers import L1,L2,L1L2 \n",
    "from keras.optimizers import SGD  "
   ]
  },
  {
   "cell_type": "code",
   "execution_count": 14,
   "id": "47e3e141",
   "metadata": {},
   "outputs": [],
   "source": [
    "model=Sequential()\n",
    "model.add(Dense(6,activation=\"tanh\",kernel_regularizer=L2(0.001),bias_regularizer=L2(0.001),input_dim=2))\n",
    "model.add(Dense(3,activation=\"tanh\",kernel_regularizer=L2(0.001),bias_regularizer=L2(0.001)))\n",
    "model.add(Dense(1,activation=\"sigmoid\",kernel_regularizer=L2(0.001),bias_regularizer=L2(0.001)))"
   ]
  },
  {
   "cell_type": "markdown",
   "id": "55dffebc-6803-484f-9651-13a2cc47b474",
   "metadata": {},
   "source": [
    "**Observation:**\n",
    "- As the data is not much complex, tanh activation function is used.\n",
    "- As model is overfitting, Regularization is used as Lasso with 0.001 learning rate.\n",
    "- As target variable contains binary class, In output layer i have used sigmoid as activation function."
   ]
  },
  {
   "cell_type": "code",
   "execution_count": 15,
   "id": "bf5f1d1b",
   "metadata": {},
   "outputs": [
    {
     "name": "stdout",
     "output_type": "stream",
     "text": [
      "Model: \"sequential\"\n",
      "_________________________________________________________________\n",
      " Layer (type)                Output Shape              Param #   \n",
      "=================================================================\n",
      " dense (Dense)               (None, 6)                 18        \n",
      "                                                                 \n",
      " dense_1 (Dense)             (None, 3)                 21        \n",
      "                                                                 \n",
      " dense_2 (Dense)             (None, 1)                 4         \n",
      "                                                                 \n",
      "=================================================================\n",
      "Total params: 43 (172.00 Byte)\n",
      "Trainable params: 43 (172.00 Byte)\n",
      "Non-trainable params: 0 (0.00 Byte)\n",
      "_________________________________________________________________\n"
     ]
    }
   ],
   "source": [
    "model.summary()  "
   ]
  },
  {
   "cell_type": "markdown",
   "id": "68f49633",
   "metadata": {},
   "source": [
    "## compiling the model "
   ]
  },
  {
   "cell_type": "code",
   "execution_count": 16,
   "id": "651afe9a",
   "metadata": {},
   "outputs": [
    {
     "name": "stdout",
     "output_type": "stream",
     "text": [
      "Epoch 1/20\n",
      "8/8 [==============================] - 1s 55ms/step - loss: 0.5548 - accuracy: 0.7342 - val_loss: 0.5882 - val_accuracy: 0.6667\n",
      "Epoch 2/20\n",
      "8/8 [==============================] - 0s 10ms/step - loss: 0.5373 - accuracy: 0.7468 - val_loss: 0.5736 - val_accuracy: 0.6667\n",
      "Epoch 3/20\n",
      "8/8 [==============================] - 0s 10ms/step - loss: 0.5211 - accuracy: 0.7595 - val_loss: 0.5602 - val_accuracy: 0.6667\n",
      "Epoch 4/20\n",
      "8/8 [==============================] - 0s 10ms/step - loss: 0.5061 - accuracy: 0.7595 - val_loss: 0.5478 - val_accuracy: 0.7778\n",
      "Epoch 5/20\n",
      "8/8 [==============================] - 0s 16ms/step - loss: 0.4923 - accuracy: 0.7975 - val_loss: 0.5364 - val_accuracy: 0.7778\n",
      "Epoch 6/20\n",
      "8/8 [==============================] - 0s 9ms/step - loss: 0.4790 - accuracy: 0.8354 - val_loss: 0.5255 - val_accuracy: 0.7778\n",
      "Epoch 7/20\n",
      "8/8 [==============================] - 0s 11ms/step - loss: 0.4665 - accuracy: 0.8608 - val_loss: 0.5156 - val_accuracy: 0.7778\n",
      "Epoch 8/20\n",
      "8/8 [==============================] - 0s 10ms/step - loss: 0.4552 - accuracy: 0.8861 - val_loss: 0.5062 - val_accuracy: 0.7778\n",
      "Epoch 9/20\n",
      "8/8 [==============================] - 0s 11ms/step - loss: 0.4444 - accuracy: 0.8861 - val_loss: 0.4976 - val_accuracy: 0.7778\n",
      "Epoch 10/20\n",
      "8/8 [==============================] - 0s 11ms/step - loss: 0.4342 - accuracy: 0.8861 - val_loss: 0.4894 - val_accuracy: 0.7778\n",
      "Epoch 11/20\n",
      "8/8 [==============================] - 0s 10ms/step - loss: 0.4248 - accuracy: 0.9241 - val_loss: 0.4816 - val_accuracy: 0.7778\n",
      "Epoch 12/20\n",
      "8/8 [==============================] - 0s 10ms/step - loss: 0.4156 - accuracy: 0.9367 - val_loss: 0.4743 - val_accuracy: 0.7778\n",
      "Epoch 13/20\n",
      "8/8 [==============================] - 0s 12ms/step - loss: 0.4070 - accuracy: 0.9367 - val_loss: 0.4673 - val_accuracy: 0.8889\n",
      "Epoch 14/20\n",
      "8/8 [==============================] - 0s 9ms/step - loss: 0.3989 - accuracy: 0.9241 - val_loss: 0.4608 - val_accuracy: 0.8889\n",
      "Epoch 15/20\n",
      "8/8 [==============================] - 0s 11ms/step - loss: 0.3911 - accuracy: 0.9367 - val_loss: 0.4545 - val_accuracy: 0.8889\n",
      "Epoch 16/20\n",
      "8/8 [==============================] - 0s 10ms/step - loss: 0.3838 - accuracy: 0.9367 - val_loss: 0.4486 - val_accuracy: 0.8889\n",
      "Epoch 17/20\n",
      "8/8 [==============================] - 0s 11ms/step - loss: 0.3766 - accuracy: 0.9241 - val_loss: 0.4429 - val_accuracy: 0.8889\n",
      "Epoch 18/20\n",
      "8/8 [==============================] - 0s 11ms/step - loss: 0.3698 - accuracy: 0.9367 - val_loss: 0.4376 - val_accuracy: 0.8889\n",
      "Epoch 19/20\n",
      "8/8 [==============================] - 0s 14ms/step - loss: 0.3635 - accuracy: 0.9494 - val_loss: 0.4326 - val_accuracy: 0.8889\n",
      "Epoch 20/20\n",
      "8/8 [==============================] - 0s 13ms/step - loss: 0.3570 - accuracy: 0.9620 - val_loss: 0.4277 - val_accuracy: 0.8889\n"
     ]
    }
   ],
   "source": [
    "model.compile(loss=\"binary_crossentropy\",optimizer=SGD(0.01),metrics=[\"accuracy\"])\n",
    "history=model.fit(x_train,y_train,batch_size=10,epochs=20,validation_split=0.1)  "
   ]
  },
  {
   "cell_type": "code",
   "execution_count": 17,
   "id": "4ef5ab05",
   "metadata": {},
   "outputs": [
    {
     "data": {
      "text/plain": [
       "<matplotlib.legend.Legend at 0x19955315790>"
      ]
     },
     "execution_count": 17,
     "metadata": {},
     "output_type": "execute_result"
    },
    {
     "data": {
      "image/png": "[encoded data removed]",
      "text/plain": [
       "<Figure size 640x480 with 1 Axes>"
      ]
     },
     "metadata": {},
     "output_type": "display_data"
    }
   ],
   "source": [
    "plt.plot(range(1,21),history.history[\"loss\"],label=\"train_loss\")\n",
    "plt.plot(range(1,21),history.history[\"val_loss\"],label=\"test_loss\") \n",
    "plt.legend()  "
   ]
  },
  {
   "cell_type": "markdown",
   "id": "816597eb",
   "metadata": {},
   "source": [
    "## Predicting the model"
   ]
  },
  {
   "cell_type": "code",
   "execution_count": 18,
   "id": "e795194f",
   "metadata": {},
   "outputs": [
    {
     "name": "stdout",
     "output_type": "stream",
     "text": [
      "1/1 [==============================] - 0s 130ms/step\n"
     ]
    },
    {
     "data": {
      "text/plain": [
       "array([[0.24284738],\n",
       "       [0.27498725],\n",
       "       [0.7344731 ],\n",
       "       [0.5724553 ],\n",
       "       [0.29393983],\n",
       "       [0.21487053],\n",
       "       [0.8209084 ],\n",
       "       [0.1719738 ],\n",
       "       [0.7907915 ],\n",
       "       [0.7701292 ]], dtype=float32)"
      ]
     },
     "execution_count": 18,
     "metadata": {},
     "output_type": "execute_result"
    }
   ],
   "source": [
    "predicted=model.predict(x_test) \n",
    "predicted    "
   ]
  },
  {
   "cell_type": "code",
   "execution_count": 19,
   "id": "a661cc60",
   "metadata": {},
   "outputs": [
    {
     "data": {
      "text/plain": [
       "array([[0],\n",
       "       [0],\n",
       "       [1],\n",
       "       [1],\n",
       "       [0],\n",
       "       [0],\n",
       "       [1],\n",
       "       [0],\n",
       "       [1],\n",
       "       [1]])"
      ]
     },
     "execution_count": 19,
     "metadata": {},
     "output_type": "execute_result"
    }
   ],
   "source": [
    "predicted=np.where(predicted>0.5,1,0)\n",
    "predicted "
   ]
  },
  {
   "cell_type": "markdown",
   "id": "8ffd0323",
   "metadata": {},
   "source": [
    "## Evaluating the model"
   ]
  },
  {
   "cell_type": "code",
   "execution_count": 20,
   "id": "c958f17a",
   "metadata": {},
   "outputs": [
    {
     "name": "stdout",
     "output_type": "stream",
     "text": [
      "1.0\n"
     ]
    },
    {
     "data": {
      "image/png": "[encoded data removed]",
      "text/plain": [
       "<Figure size 640x480 with 2 Axes>"
      ]
     },
     "metadata": {},
     "output_type": "display_data"
    }
   ],
   "source": [
    "from sklearn.metrics import accuracy_score,confusion_matrix,ConfusionMatrixDisplay\n",
    "print(accuracy_score(y_test,predicted))\n",
    "cm=confusion_matrix(y_test,predicted)\n",
    "va=ConfusionMatrixDisplay(cm)\n",
    "va.plot() \n",
    "plt.show()  "
   ]
  },
  {
   "cell_type": "markdown",
   "id": "b92d2491",
   "metadata": {},
   "source": [
    "## PLOTING THE DECISION SURFACE "
   ]
  },
  {
   "cell_type": "code",
   "execution_count": 21,
   "id": "0cf2f1a5",
   "metadata": {},
   "outputs": [],
   "source": [
    "from mlxtend.plotting  import plot_decision_regions  "
   ]
  },
  {
   "cell_type": "code",
   "execution_count": 22,
   "id": "a9aba988",
   "metadata": {},
   "outputs": [
    {
     "name": "stdout",
     "output_type": "stream",
     "text": [
      "9600/9600 [==============================] - 22s 2ms/step\n"
     ]
    },
    {
     "data": {
      "text/plain": [
       "<AxesSubplot:>"
      ]
     },
     "execution_count": 22,
     "metadata": {},
     "output_type": "execute_result"
    },
    {
     "data": {
      "image/png": "[encoded data removed]",
      "text/plain": [
       "<Figure size 640x480 with 1 Axes>"
      ]
     },
     "metadata": {},
     "output_type": "display_data"
    }
   ],
   "source": [
    "# Decision surface for train data\n",
    "plot_decision_regions(x_train,y_train.values,clf=model)   "
   ]
  },
  {
   "cell_type": "code",
   "execution_count": 23,
   "id": "edee34eb",
   "metadata": {},
   "outputs": [
    {
     "name": "stdout",
     "output_type": "stream",
     "text": [
      "9600/9600 [==============================] - 26s 3ms/step\n"
     ]
    },
    {
     "data": {
      "text/plain": [
       "<AxesSubplot:>"
      ]
     },
     "execution_count": 23,
     "metadata": {},
     "output_type": "execute_result"
    },
    {
     "data": {
      "image/png": "[encoded data removed]",
      "text/plain": [
       "<Figure size 640x480 with 1 Axes>"
      ]
     },
     "metadata": {},
     "output_type": "display_data"
    }
   ],
   "source": [
    "# Decision surface for test data\n",
    "plot_decision_regions(x_test,y_test.values,clf=model) "
   ]
  },
  {
   "cell_type": "markdown",
   "id": "769dd5a9",
   "metadata": {},
   "source": [
    "## Conclusions:\n",
    "\n",
    "- This neural network model achieves an accuracy of around 100%.\n",
    "            \n",
    "#### The model architecture consists of 2 hidden layers: \n",
    "- In the first hidden layer, there are 6 neurons with the tanh activation function \n",
    "- In the second hidden layer, there are 3 neurons with the tanh activation function \n",
    "\n",
    "- The output layer uses the sigmoid activation function.\n",
    "\n",
    " \n",
    "#### Overall, this neural network model architecture and training configuration achieve an accuracy of around 100%.    "
   ]
  },
  {
   "cell_type": "code",
   "execution_count": null,
   "id": "93e10a18",
   "metadata": {},
   "outputs": [],
   "source": []
  }
 ],
 "metadata": {
  "kernelspec": {
   "display_name": "Python 3 (ipykernel)",
   "language": "python",
   "name": "python3"
  },
  "language_info": {
   "codemirror_mode": {
    "name": "ipython",
    "version": 3
   },
   "file_extension": ".py",
   "mimetype": "text/x-python",
   "name": "python",
   "nbconvert_exporter": "python",
   "pygments_lexer": "ipython3",
   "version": "3.9.13"
  }
 },
 "nbformat": 4,
 "nbformat_minor": 5
}

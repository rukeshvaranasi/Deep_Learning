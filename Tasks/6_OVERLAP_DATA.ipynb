{
 "cells": [
  {
   "cell_type": "markdown",
   "id": "63821759",
   "metadata": {},
   "source": [
    "## Importing Libraries "
   ]
  },
  {
   "cell_type": "code",
   "execution_count": 1,
   "id": "026414a5",
   "metadata": {},
   "outputs": [],
   "source": [
    "import numpy as np\n",
    "import pandas as pd  \n",
    "import matplotlib.pyplot as plt \n",
    "import seaborn as sns  "
   ]
  },
  {
   "cell_type": "markdown",
   "id": "93377503",
   "metadata": {},
   "source": [
    "## Loading the CSV file"
   ]
  },
  {
   "cell_type": "code",
   "execution_count": 26,
   "id": "9b86371a",
   "metadata": {},
   "outputs": [
    {
     "data": {
      "text/html": [
       "<div>\n",
       "<style scoped>\n",
       "    .dataframe tbody tr th:only-of-type {\n",
       "        vertical-align: middle;\n",
       "    }\n",
       "\n",
       "    .dataframe tbody tr th {\n",
       "        vertical-align: top;\n",
       "    }\n",
       "\n",
       "    .dataframe thead th {\n",
       "        text-align: right;\n",
       "    }\n",
       "</style>\n",
       "<table border=\"1\" class=\"dataframe\">\n",
       "  <thead>\n",
       "    <tr style=\"text-align: right;\">\n",
       "      <th></th>\n",
       "      <th>0</th>\n",
       "      <th>1</th>\n",
       "      <th>2</th>\n",
       "    </tr>\n",
       "  </thead>\n",
       "  <tbody>\n",
       "    <tr>\n",
       "      <th>0</th>\n",
       "      <td>7.0</td>\n",
       "      <td>3.2</td>\n",
       "      <td>0</td>\n",
       "    </tr>\n",
       "    <tr>\n",
       "      <th>1</th>\n",
       "      <td>6.4</td>\n",
       "      <td>3.2</td>\n",
       "      <td>0</td>\n",
       "    </tr>\n",
       "    <tr>\n",
       "      <th>2</th>\n",
       "      <td>6.9</td>\n",
       "      <td>3.1</td>\n",
       "      <td>0</td>\n",
       "    </tr>\n",
       "    <tr>\n",
       "      <th>3</th>\n",
       "      <td>5.5</td>\n",
       "      <td>2.3</td>\n",
       "      <td>0</td>\n",
       "    </tr>\n",
       "    <tr>\n",
       "      <th>4</th>\n",
       "      <td>6.5</td>\n",
       "      <td>2.8</td>\n",
       "      <td>0</td>\n",
       "    </tr>\n",
       "  </tbody>\n",
       "</table>\n",
       "</div>"
      ],
      "text/plain": [
       "     0    1  2\n",
       "0  7.0  3.2  0\n",
       "1  6.4  3.2  0\n",
       "2  6.9  3.1  0\n",
       "3  5.5  2.3  0\n",
       "4  6.5  2.8  0"
      ]
     },
     "execution_count": 26,
     "metadata": {},
     "output_type": "execute_result"
    }
   ],
   "source": [
    "df=pd.read_csv(r\"C:\\Users\\ADMIN\\Downloads\\PYTHON FILES\\Deep_Learning\\Assignments & Projects\\Assignment 4\\Multiple CSV\\6.overlap.csv\",header=None) \n",
    "df.head() "
   ]
  },
  {
   "cell_type": "code",
   "execution_count": 27,
   "id": "2353642a",
   "metadata": {},
   "outputs": [
    {
     "name": "stdout",
     "output_type": "stream",
     "text": [
      "<class 'pandas.core.frame.DataFrame'>\n",
      "RangeIndex: 100 entries, 0 to 99\n",
      "Data columns (total 3 columns):\n",
      " #   Column  Non-Null Count  Dtype  \n",
      "---  ------  --------------  -----  \n",
      " 0   0       100 non-null    float64\n",
      " 1   1       100 non-null    float64\n",
      " 2   2       100 non-null    int64  \n",
      "dtypes: float64(2), int64(1)\n",
      "memory usage: 2.5 KB\n"
     ]
    }
   ],
   "source": [
    "df.info()  "
   ]
  },
  {
   "cell_type": "code",
   "execution_count": 28,
   "id": "31c482d4",
   "metadata": {},
   "outputs": [
    {
     "data": {
      "text/plain": [
       "0    50\n",
       "1    50\n",
       "Name: 2, dtype: int64"
      ]
     },
     "execution_count": 28,
     "metadata": {},
     "output_type": "execute_result"
    }
   ],
   "source": [
    "# Checking whether target variable is imbalanced or not\n",
    "df[2].value_counts()   "
   ]
  },
  {
   "cell_type": "code",
   "execution_count": 29,
   "id": "c51a27d9",
   "metadata": {},
   "outputs": [
    {
     "name": "stderr",
     "output_type": "stream",
     "text": [
      "C:\\Users\\ADMIN\\anaconda3\\lib\\site-packages\\seaborn\\_decorators.py:36: FutureWarning: Pass the following variable as a keyword arg: x. From version 0.12, the only valid positional argument will be `data`, and passing other arguments without an explicit keyword will result in an error or misinterpretation.\n",
      "  warnings.warn(\n"
     ]
    },
    {
     "data": {
      "text/plain": [
       "<AxesSubplot:xlabel='0'>"
      ]
     },
     "execution_count": 29,
     "metadata": {},
     "output_type": "execute_result"
    },
    {
     "data": {
      "image/png": "[encoded data removed]",
      "text/plain": [
       "<Figure size 640x480 with 1 Axes>"
      ]
     },
     "metadata": {},
     "output_type": "display_data"
    }
   ],
   "source": [
    "## Identifying outliers \n",
    "sns.boxplot(df[0])  "
   ]
  },
  {
   "cell_type": "code",
   "execution_count": 30,
   "id": "9875ee44",
   "metadata": {},
   "outputs": [
    {
     "name": "stderr",
     "output_type": "stream",
     "text": [
      "C:\\Users\\ADMIN\\anaconda3\\lib\\site-packages\\seaborn\\_decorators.py:36: FutureWarning: Pass the following variable as a keyword arg: x. From version 0.12, the only valid positional argument will be `data`, and passing other arguments without an explicit keyword will result in an error or misinterpretation.\n",
      "  warnings.warn(\n"
     ]
    },
    {
     "data": {
      "text/plain": [
       "<AxesSubplot:xlabel='1'>"
      ]
     },
     "execution_count": 30,
     "metadata": {},
     "output_type": "execute_result"
    },
    {
     "data": {
      "image/png": "[encoded data removed]",
      "text/plain": [
       "<Figure size 640x480 with 1 Axes>"
      ]
     },
     "metadata": {},
     "output_type": "display_data"
    }
   ],
   "source": [
    "sns.boxplot(df[1]) "
   ]
  },
  {
   "cell_type": "code",
   "execution_count": 31,
   "id": "5a240123",
   "metadata": {},
   "outputs": [],
   "source": [
    "# removing the outliers\n",
    "df=df[(df[1]<3.50)&(df[1]>2.25)]  "
   ]
  },
  {
   "cell_type": "code",
   "execution_count": 32,
   "id": "81d0e429",
   "metadata": {},
   "outputs": [
    {
     "name": "stdout",
     "output_type": "stream",
     "text": [
      "<class 'pandas.core.frame.DataFrame'>\n",
      "Int64Index: 93 entries, 0 to 99\n",
      "Data columns (total 3 columns):\n",
      " #   Column  Non-Null Count  Dtype  \n",
      "---  ------  --------------  -----  \n",
      " 0   0       93 non-null     float64\n",
      " 1   1       93 non-null     float64\n",
      " 2   2       93 non-null     int64  \n",
      "dtypes: float64(2), int64(1)\n",
      "memory usage: 2.9 KB\n"
     ]
    }
   ],
   "source": [
    "df.info() "
   ]
  },
  {
   "cell_type": "code",
   "execution_count": 33,
   "id": "73387b35",
   "metadata": {},
   "outputs": [
    {
     "name": "stderr",
     "output_type": "stream",
     "text": [
      "C:\\Users\\ADMIN\\anaconda3\\lib\\site-packages\\seaborn\\_decorators.py:36: FutureWarning: Pass the following variable as a keyword arg: x. From version 0.12, the only valid positional argument will be `data`, and passing other arguments without an explicit keyword will result in an error or misinterpretation.\n",
      "  warnings.warn(\n"
     ]
    },
    {
     "data": {
      "text/plain": [
       "<AxesSubplot:xlabel='1'>"
      ]
     },
     "execution_count": 33,
     "metadata": {},
     "output_type": "execute_result"
    },
    {
     "data": {
      "image/png": "[encoded data removed]",
      "text/plain": [
       "<Figure size 640x480 with 1 Axes>"
      ]
     },
     "metadata": {},
     "output_type": "display_data"
    }
   ],
   "source": [
    "sns.boxplot(df[1])  "
   ]
  },
  {
   "cell_type": "markdown",
   "id": "f0c7d6ad",
   "metadata": {},
   "source": [
    "## Identifying the Input and Output Features"
   ]
  },
  {
   "cell_type": "code",
   "execution_count": 91,
   "id": "97772e3b",
   "metadata": {},
   "outputs": [],
   "source": [
    "x=df.iloc[:,0:2]\n",
    "y=df.iloc[:,2]  "
   ]
  },
  {
   "cell_type": "markdown",
   "id": "7085c160",
   "metadata": {},
   "source": [
    "## Spliting the data into train and test"
   ]
  },
  {
   "cell_type": "code",
   "execution_count": 92,
   "id": "165195b9",
   "metadata": {},
   "outputs": [],
   "source": [
    "from sklearn.model_selection import train_test_split\n",
    "x_train,x_test,y_train,y_test=train_test_split(x,y,test_size=0.1) "
   ]
  },
  {
   "cell_type": "markdown",
   "id": "68c957a8",
   "metadata": {},
   "source": [
    "## Standardizing input features "
   ]
  },
  {
   "cell_type": "code",
   "execution_count": 93,
   "id": "f7de64bb",
   "metadata": {},
   "outputs": [],
   "source": [
    "from sklearn.preprocessing import StandardScaler\n",
    "std=StandardScaler()\n",
    "x_train=std.fit_transform(x_train)\n",
    "x_test=std.transform(x_test) "
   ]
  },
  {
   "cell_type": "markdown",
   "id": "cd39ff11",
   "metadata": {},
   "source": [
    "## Building the Logical Structure "
   ]
  },
  {
   "cell_type": "code",
   "execution_count": 94,
   "id": "52cf1006-eaa3-40dd-9c88-0ce56c44ffcb",
   "metadata": {},
   "outputs": [],
   "source": [
    "from keras import Sequential \n",
    "from keras.layers import Dense, BatchNormalization \n",
    "from keras.regularizers import L1,L2,L1L2 \n",
    "from keras.optimizers import SGD  "
   ]
  },
  {
   "cell_type": "code",
   "execution_count": 95,
   "id": "6eefa6c3",
   "metadata": {},
   "outputs": [],
   "source": [
    "model=Sequential()\n",
    "model.add(Dense(20,activation=\"relu\",kernel_regularizer=L2(0.01),bias_regularizer=L2(0.01),input_dim=2))\n",
    "model.add(Dense(16,activation=\"relu\",kernel_regularizer=L2(0.01),bias_regularizer=L2(0.01)))\n",
    "model.add(BatchNormalization())\n",
    "model.add(Dense(10,activation=\"relu\",kernel_regularizer=L2(0.01),bias_regularizer=L2(0.01)))\n",
    "model.add(Dense(1,activation=\"sigmoid\")) "
   ]
  },
  {
   "cell_type": "code",
   "execution_count": 96,
   "id": "7c47044d",
   "metadata": {},
   "outputs": [
    {
     "name": "stdout",
     "output_type": "stream",
     "text": [
      "Model: \"sequential_10\"\n",
      "_________________________________________________________________\n",
      " Layer (type)                Output Shape              Param #   \n",
      "=================================================================\n",
      " dense_40 (Dense)            (None, 20)                60        \n",
      "                                                                 \n",
      " dense_41 (Dense)            (None, 16)                336       \n",
      "                                                                 \n",
      " batch_normalization_10 (Ba  (None, 16)                64        \n",
      " tchNormalization)                                               \n",
      "                                                                 \n",
      " dense_42 (Dense)            (None, 10)                170       \n",
      "                                                                 \n",
      " dense_43 (Dense)            (None, 1)                 11        \n",
      "                                                                 \n",
      "=================================================================\n",
      "Total params: 641 (2.50 KB)\n",
      "Trainable params: 609 (2.38 KB)\n",
      "Non-trainable params: 32 (128.00 Byte)\n",
      "_________________________________________________________________\n"
     ]
    }
   ],
   "source": [
    "model.summary() "
   ]
  },
  {
   "cell_type": "markdown",
   "id": "8c9101e2",
   "metadata": {},
   "source": [
    "## compiling the model"
   ]
  },
  {
   "cell_type": "code",
   "execution_count": 97,
   "id": "59cf5dde",
   "metadata": {},
   "outputs": [
    {
     "name": "stdout",
     "output_type": "stream",
     "text": [
      "Epoch 1/25\n",
      "5/5 [==============================] - 2s 135ms/step - loss: 1.1020 - accuracy: 0.4595 - val_loss: 0.9693 - val_accuracy: 0.7778\n",
      "Epoch 2/25\n",
      "5/5 [==============================] - 0s 28ms/step - loss: 1.0108 - accuracy: 0.6757 - val_loss: 0.9645 - val_accuracy: 0.6667\n",
      "Epoch 3/25\n",
      "5/5 [==============================] - 0s 23ms/step - loss: 1.0160 - accuracy: 0.6351 - val_loss: 0.9586 - val_accuracy: 0.6667\n",
      "Epoch 4/25\n",
      "5/5 [==============================] - 0s 23ms/step - loss: 0.9835 - accuracy: 0.6757 - val_loss: 0.9543 - val_accuracy: 0.6667\n",
      "Epoch 5/25\n",
      "5/5 [==============================] - 0s 26ms/step - loss: 0.9882 - accuracy: 0.6351 - val_loss: 0.9546 - val_accuracy: 0.6667\n",
      "Epoch 6/25\n",
      "5/5 [==============================] - 0s 26ms/step - loss: 0.9725 - accuracy: 0.7297 - val_loss: 0.9521 - val_accuracy: 0.6667\n",
      "Epoch 7/25\n",
      "5/5 [==============================] - 0s 22ms/step - loss: 0.9556 - accuracy: 0.6892 - val_loss: 0.9478 - val_accuracy: 0.7778\n",
      "Epoch 8/25\n",
      "5/5 [==============================] - 0s 26ms/step - loss: 0.9579 - accuracy: 0.7027 - val_loss: 0.9459 - val_accuracy: 0.7778\n",
      "Epoch 9/25\n",
      "5/5 [==============================] - 0s 24ms/step - loss: 0.9494 - accuracy: 0.6622 - val_loss: 0.9428 - val_accuracy: 0.7778\n",
      "Epoch 10/25\n",
      "5/5 [==============================] - 0s 24ms/step - loss: 0.9572 - accuracy: 0.6757 - val_loss: 0.9402 - val_accuracy: 0.7778\n",
      "Epoch 11/25\n",
      "5/5 [==============================] - 0s 26ms/step - loss: 0.9460 - accuracy: 0.7027 - val_loss: 0.9409 - val_accuracy: 0.7778\n",
      "Epoch 12/25\n",
      "5/5 [==============================] - 0s 39ms/step - loss: 0.9402 - accuracy: 0.6622 - val_loss: 0.9406 - val_accuracy: 0.7778\n",
      "Epoch 13/25\n",
      "5/5 [==============================] - 0s 31ms/step - loss: 0.9442 - accuracy: 0.6757 - val_loss: 0.9392 - val_accuracy: 0.7778\n",
      "Epoch 14/25\n",
      "5/5 [==============================] - 0s 39ms/step - loss: 0.9756 - accuracy: 0.6892 - val_loss: 0.9394 - val_accuracy: 0.7778\n",
      "Epoch 15/25\n",
      "5/5 [==============================] - 0s 24ms/step - loss: 0.9564 - accuracy: 0.6622 - val_loss: 0.9391 - val_accuracy: 0.7778\n",
      "Epoch 16/25\n",
      "5/5 [==============================] - 0s 19ms/step - loss: 0.9602 - accuracy: 0.7027 - val_loss: 0.9402 - val_accuracy: 0.7778\n",
      "Epoch 17/25\n",
      "5/5 [==============================] - 0s 24ms/step - loss: 0.9497 - accuracy: 0.6757 - val_loss: 0.9381 - val_accuracy: 0.7778\n",
      "Epoch 18/25\n",
      "5/5 [==============================] - 0s 21ms/step - loss: 0.9225 - accuracy: 0.7162 - val_loss: 0.9346 - val_accuracy: 0.7778\n",
      "Epoch 19/25\n",
      "5/5 [==============================] - 0s 25ms/step - loss: 0.9019 - accuracy: 0.6622 - val_loss: 0.9319 - val_accuracy: 0.7778\n",
      "Epoch 20/25\n",
      "5/5 [==============================] - 0s 24ms/step - loss: 0.9248 - accuracy: 0.6622 - val_loss: 0.9312 - val_accuracy: 0.7778\n",
      "Epoch 21/25\n",
      "5/5 [==============================] - 0s 24ms/step - loss: 0.9126 - accuracy: 0.6892 - val_loss: 0.9275 - val_accuracy: 0.7778\n",
      "Epoch 22/25\n",
      "5/5 [==============================] - 0s 29ms/step - loss: 0.9473 - accuracy: 0.6216 - val_loss: 0.9275 - val_accuracy: 0.7778\n",
      "Epoch 23/25\n",
      "5/5 [==============================] - 0s 22ms/step - loss: 0.9381 - accuracy: 0.6351 - val_loss: 0.9294 - val_accuracy: 0.7778\n",
      "Epoch 24/25\n",
      "5/5 [==============================] - 0s 19ms/step - loss: 0.8977 - accuracy: 0.6622 - val_loss: 0.9270 - val_accuracy: 0.7778\n",
      "Epoch 25/25\n",
      "5/5 [==============================] - 0s 19ms/step - loss: 0.9121 - accuracy: 0.7162 - val_loss: 0.9244 - val_accuracy: 0.7778\n"
     ]
    }
   ],
   "source": [
    "model.compile(loss=\"binary_crossentropy\",optimizer=SGD(0.01),metrics=[\"accuracy\"])\n",
    "history=model.fit(x_train,y_train,batch_size=15,epochs=25,validation_split=0.1) "
   ]
  },
  {
   "cell_type": "code",
   "execution_count": 98,
   "id": "11c69036",
   "metadata": {},
   "outputs": [
    {
     "data": {
      "text/plain": [
       "<matplotlib.legend.Legend at 0x275c820d550>"
      ]
     },
     "execution_count": 98,
     "metadata": {},
     "output_type": "execute_result"
    },
    {
     "data": {
      "image/png": "[encoded data removed]",
      "text/plain": [
       "<Figure size 640x480 with 1 Axes>"
      ]
     },
     "metadata": {},
     "output_type": "display_data"
    }
   ],
   "source": [
    "plt.plot(range(1,26),history.history[\"loss\"],label=\"train_loss\")\n",
    "plt.plot(range(1,26),history.history[\"val_loss\"],label=\"test_loss\") \n",
    "plt.legend()  "
   ]
  },
  {
   "cell_type": "markdown",
   "id": "54c8512b",
   "metadata": {},
   "source": [
    "## Predicting the model "
   ]
  },
  {
   "cell_type": "code",
   "execution_count": 99,
   "id": "e759e790",
   "metadata": {},
   "outputs": [
    {
     "name": "stdout",
     "output_type": "stream",
     "text": [
      "1/1 [==============================] - 0s 220ms/step\n"
     ]
    },
    {
     "data": {
      "text/plain": [
       "array([[0.5250007 ],\n",
       "       [0.5207872 ],\n",
       "       [0.80914325],\n",
       "       [0.4554779 ],\n",
       "       [0.6749395 ],\n",
       "       [0.42009902],\n",
       "       [0.44996282],\n",
       "       [0.43591765],\n",
       "       [0.41506186],\n",
       "       [0.48679525]], dtype=float32)"
      ]
     },
     "execution_count": 99,
     "metadata": {},
     "output_type": "execute_result"
    }
   ],
   "source": [
    "predicted=model.predict(x_test) \n",
    "predicted  "
   ]
  },
  {
   "cell_type": "code",
   "execution_count": 100,
   "id": "a4b7305b",
   "metadata": {},
   "outputs": [
    {
     "data": {
      "text/plain": [
       "array([[1],\n",
       "       [1],\n",
       "       [1],\n",
       "       [0],\n",
       "       [1],\n",
       "       [0],\n",
       "       [0],\n",
       "       [0],\n",
       "       [0],\n",
       "       [0]])"
      ]
     },
     "execution_count": 100,
     "metadata": {},
     "output_type": "execute_result"
    }
   ],
   "source": [
    "predicted=np.where(predicted>0.5,1,0)\n",
    "predicted  "
   ]
  },
  {
   "cell_type": "markdown",
   "id": "fb83a151",
   "metadata": {},
   "source": [
    "## Evaluating the model"
   ]
  },
  {
   "cell_type": "code",
   "execution_count": 101,
   "id": "6ccbee42",
   "metadata": {},
   "outputs": [
    {
     "name": "stdout",
     "output_type": "stream",
     "text": [
      "0.7\n"
     ]
    }
   ],
   "source": [
    "from sklearn.metrics import accuracy_score,confusion_matrix,ConfusionMatrixDisplay\n",
    "print(accuracy_score(y_test,predicted))\n",
    " "
   ]
  },
  {
   "cell_type": "code",
   "execution_count": 102,
   "id": "9b02c149-f868-430e-ae2b-e021067cce2b",
   "metadata": {},
   "outputs": [
    {
     "data": {
      "image/png": "[encoded data removed]",
      "text/plain": [
       "<Figure size 640x480 with 2 Axes>"
      ]
     },
     "metadata": {},
     "output_type": "display_data"
    }
   ],
   "source": [
    "cm=confusion_matrix(y_test,predicted)\n",
    "va=ConfusionMatrixDisplay(cm)\n",
    "va.plot() \n",
    "plt.show()"
   ]
  },
  {
   "cell_type": "markdown",
   "id": "6c9ec729",
   "metadata": {},
   "source": [
    "## PLOTING THE DECISION SURFACE"
   ]
  },
  {
   "cell_type": "code",
   "execution_count": 103,
   "id": "dfefccd5",
   "metadata": {},
   "outputs": [],
   "source": [
    "from mlxtend.plotting  import plot_decision_regions "
   ]
  },
  {
   "cell_type": "code",
   "execution_count": 104,
   "id": "97a6c8d1",
   "metadata": {},
   "outputs": [
    {
     "name": "stdout",
     "output_type": "stream",
     "text": [
      "9600/9600 [==============================] - 28s 3ms/step\n"
     ]
    },
    {
     "data": {
      "text/plain": [
       "<AxesSubplot:>"
      ]
     },
     "execution_count": 104,
     "metadata": {},
     "output_type": "execute_result"
    },
    {
     "data": {
      "image/png": "[encoded data removed]",
      "text/plain": [
       "<Figure size 640x480 with 1 Axes>"
      ]
     },
     "metadata": {},
     "output_type": "display_data"
    }
   ],
   "source": [
    "plot_decision_regions(x_train,y_train.values,clf=model)  "
   ]
  },
  {
   "cell_type": "code",
   "execution_count": 105,
   "id": "29817b68",
   "metadata": {},
   "outputs": [
    {
     "name": "stdout",
     "output_type": "stream",
     "text": [
      "9600/9600 [==============================] - 25s 3ms/step\n"
     ]
    },
    {
     "data": {
      "text/plain": [
       "<AxesSubplot:>"
      ]
     },
     "execution_count": 105,
     "metadata": {},
     "output_type": "execute_result"
    },
    {
     "data": {
      "image/png": "[encoded data removed]",
      "text/plain": [
       "<Figure size 640x480 with 1 Axes>"
      ]
     },
     "metadata": {},
     "output_type": "display_data"
    }
   ],
   "source": [
    "plot_decision_regions(x_test,y_test.values,clf=model)"
   ]
  },
  {
   "cell_type": "markdown",
   "id": "df91bf4f",
   "metadata": {},
   "source": [
    "## Conclusions:\n",
    "\n",
    "###### This neural network model achieves an accuracy of 70%. \n",
    "\n",
    "- The model architecture consists of 3 hidden layers with the following specifications:\n",
    "\n",
    "- In the first hidden layer, there are 20 neurons with the relu activation function\n",
    "- In the second hidden layer, there are 16 neurons with the relu activation function\n",
    "- In the third hidden layer, there are 10 neurons with the relu activation function \n",
    "- The output layer uses the sigmoid activation function.\n",
    "\n",
    "###### Overall, this neural network model architecture and training configuration achieve an accuracy of 70%.   "
   ]
  },
  {
   "cell_type": "code",
   "execution_count": null,
   "id": "355183b4",
   "metadata": {},
   "outputs": [],
   "source": []
  }
 ],
 "metadata": {
  "kernelspec": {
   "display_name": "Python 3 (ipykernel)",
   "language": "python",
   "name": "python3"
  },
  "language_info": {
   "codemirror_mode": {
    "name": "ipython",
    "version": 3
   },
   "file_extension": ".py",
   "mimetype": "text/x-python",
   "name": "python",
   "nbconvert_exporter": "python",
   "pygments_lexer": "ipython3",
   "version": "3.9.13"
  }
 },
 "nbformat": 4,
 "nbformat_minor": 5
}

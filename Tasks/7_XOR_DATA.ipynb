{
 "cells": [
  {
   "cell_type": "markdown",
   "id": "e6d54a8e",
   "metadata": {},
   "source": [
    "## Importing Libraries "
   ]
  },
  {
   "cell_type": "code",
   "execution_count": 1,
   "id": "f6c43cdb",
   "metadata": {},
   "outputs": [],
   "source": [
    "import numpy as np\n",
    "import pandas as pd   \n",
    "import matplotlib.pyplot as plt \n",
    "import seaborn as sns  "
   ]
  },
  {
   "cell_type": "markdown",
   "id": "4ae56463",
   "metadata": {},
   "source": [
    "## Importing the CSV file "
   ]
  },
  {
   "cell_type": "code",
   "execution_count": 2,
   "id": "37f862da",
   "metadata": {},
   "outputs": [
    {
     "data": {
      "text/html": [
       "<div>\n",
       "<style scoped>\n",
       "    .dataframe tbody tr th:only-of-type {\n",
       "        vertical-align: middle;\n",
       "    }\n",
       "\n",
       "    .dataframe tbody tr th {\n",
       "        vertical-align: top;\n",
       "    }\n",
       "\n",
       "    .dataframe thead th {\n",
       "        text-align: right;\n",
       "    }\n",
       "</style>\n",
       "<table border=\"1\" class=\"dataframe\">\n",
       "  <thead>\n",
       "    <tr style=\"text-align: right;\">\n",
       "      <th></th>\n",
       "      <th>0</th>\n",
       "      <th>1</th>\n",
       "      <th>2</th>\n",
       "    </tr>\n",
       "  </thead>\n",
       "  <tbody>\n",
       "    <tr>\n",
       "      <th>0</th>\n",
       "      <td>1.764052</td>\n",
       "      <td>0.400157</td>\n",
       "      <td>-1.0</td>\n",
       "    </tr>\n",
       "    <tr>\n",
       "      <th>1</th>\n",
       "      <td>0.978738</td>\n",
       "      <td>2.240893</td>\n",
       "      <td>-1.0</td>\n",
       "    </tr>\n",
       "    <tr>\n",
       "      <th>2</th>\n",
       "      <td>1.867558</td>\n",
       "      <td>-0.977278</td>\n",
       "      <td>1.0</td>\n",
       "    </tr>\n",
       "    <tr>\n",
       "      <th>3</th>\n",
       "      <td>0.950088</td>\n",
       "      <td>-0.151357</td>\n",
       "      <td>1.0</td>\n",
       "    </tr>\n",
       "    <tr>\n",
       "      <th>4</th>\n",
       "      <td>-0.103219</td>\n",
       "      <td>0.410599</td>\n",
       "      <td>1.0</td>\n",
       "    </tr>\n",
       "  </tbody>\n",
       "</table>\n",
       "</div>"
      ],
      "text/plain": [
       "          0         1    2\n",
       "0  1.764052  0.400157 -1.0\n",
       "1  0.978738  2.240893 -1.0\n",
       "2  1.867558 -0.977278  1.0\n",
       "3  0.950088 -0.151357  1.0\n",
       "4 -0.103219  0.410599  1.0"
      ]
     },
     "execution_count": 2,
     "metadata": {},
     "output_type": "execute_result"
    }
   ],
   "source": [
    "df=pd.read_csv(r\"C:\\Users\\ADMIN\\Downloads\\PYTHON FILES\\Deep_Learning\\Assignments & Projects\\Assignment 4\\Multiple CSV\\7.xor.csv\",header=None) \n",
    "df.head() "
   ]
  },
  {
   "cell_type": "code",
   "execution_count": 3,
   "id": "e0471fa6",
   "metadata": {},
   "outputs": [
    {
     "data": {
      "text/html": [
       "<div>\n",
       "<style scoped>\n",
       "    .dataframe tbody tr th:only-of-type {\n",
       "        vertical-align: middle;\n",
       "    }\n",
       "\n",
       "    .dataframe tbody tr th {\n",
       "        vertical-align: top;\n",
       "    }\n",
       "\n",
       "    .dataframe thead th {\n",
       "        text-align: right;\n",
       "    }\n",
       "</style>\n",
       "<table border=\"1\" class=\"dataframe\">\n",
       "  <thead>\n",
       "    <tr style=\"text-align: right;\">\n",
       "      <th></th>\n",
       "      <th>f_1</th>\n",
       "      <th>f_2</th>\n",
       "      <th>label</th>\n",
       "    </tr>\n",
       "  </thead>\n",
       "  <tbody>\n",
       "    <tr>\n",
       "      <th>0</th>\n",
       "      <td>1.764052</td>\n",
       "      <td>0.400157</td>\n",
       "      <td>-1.0</td>\n",
       "    </tr>\n",
       "    <tr>\n",
       "      <th>1</th>\n",
       "      <td>0.978738</td>\n",
       "      <td>2.240893</td>\n",
       "      <td>-1.0</td>\n",
       "    </tr>\n",
       "    <tr>\n",
       "      <th>2</th>\n",
       "      <td>1.867558</td>\n",
       "      <td>-0.977278</td>\n",
       "      <td>1.0</td>\n",
       "    </tr>\n",
       "    <tr>\n",
       "      <th>3</th>\n",
       "      <td>0.950088</td>\n",
       "      <td>-0.151357</td>\n",
       "      <td>1.0</td>\n",
       "    </tr>\n",
       "    <tr>\n",
       "      <th>4</th>\n",
       "      <td>-0.103219</td>\n",
       "      <td>0.410599</td>\n",
       "      <td>1.0</td>\n",
       "    </tr>\n",
       "  </tbody>\n",
       "</table>\n",
       "</div>"
      ],
      "text/plain": [
       "        f_1       f_2  label\n",
       "0  1.764052  0.400157   -1.0\n",
       "1  0.978738  2.240893   -1.0\n",
       "2  1.867558 -0.977278    1.0\n",
       "3  0.950088 -0.151357    1.0\n",
       "4 -0.103219  0.410599    1.0"
      ]
     },
     "execution_count": 3,
     "metadata": {},
     "output_type": "execute_result"
    }
   ],
   "source": [
    "#renaming columns properly\n",
    "df.columns=[\"f_1\",\"f_2\",\"label\"] \n",
    "df.head() "
   ]
  },
  {
   "cell_type": "code",
   "execution_count": 4,
   "id": "2cf3f6b6",
   "metadata": {},
   "outputs": [
    {
     "data": {
      "text/html": [
       "<div>\n",
       "<style scoped>\n",
       "    .dataframe tbody tr th:only-of-type {\n",
       "        vertical-align: middle;\n",
       "    }\n",
       "\n",
       "    .dataframe tbody tr th {\n",
       "        vertical-align: top;\n",
       "    }\n",
       "\n",
       "    .dataframe thead th {\n",
       "        text-align: right;\n",
       "    }\n",
       "</style>\n",
       "<table border=\"1\" class=\"dataframe\">\n",
       "  <thead>\n",
       "    <tr style=\"text-align: right;\">\n",
       "      <th></th>\n",
       "      <th>f_1</th>\n",
       "      <th>f_2</th>\n",
       "      <th>label</th>\n",
       "    </tr>\n",
       "  </thead>\n",
       "  <tbody>\n",
       "    <tr>\n",
       "      <th>0</th>\n",
       "      <td>1.764052</td>\n",
       "      <td>0.400157</td>\n",
       "      <td>0</td>\n",
       "    </tr>\n",
       "    <tr>\n",
       "      <th>1</th>\n",
       "      <td>0.978738</td>\n",
       "      <td>2.240893</td>\n",
       "      <td>0</td>\n",
       "    </tr>\n",
       "    <tr>\n",
       "      <th>2</th>\n",
       "      <td>1.867558</td>\n",
       "      <td>-0.977278</td>\n",
       "      <td>1</td>\n",
       "    </tr>\n",
       "    <tr>\n",
       "      <th>3</th>\n",
       "      <td>0.950088</td>\n",
       "      <td>-0.151357</td>\n",
       "      <td>1</td>\n",
       "    </tr>\n",
       "    <tr>\n",
       "      <th>4</th>\n",
       "      <td>-0.103219</td>\n",
       "      <td>0.410599</td>\n",
       "      <td>1</td>\n",
       "    </tr>\n",
       "  </tbody>\n",
       "</table>\n",
       "</div>"
      ],
      "text/plain": [
       "        f_1       f_2  label\n",
       "0  1.764052  0.400157      0\n",
       "1  0.978738  2.240893      0\n",
       "2  1.867558 -0.977278      1\n",
       "3  0.950088 -0.151357      1\n",
       "4 -0.103219  0.410599      1"
      ]
     },
     "execution_count": 4,
     "metadata": {},
     "output_type": "execute_result"
    }
   ],
   "source": [
    "df[\"label\"]=np.where(df[\"label\"]==-1.0,0,1)\n",
    "df.head() "
   ]
  },
  {
   "cell_type": "code",
   "execution_count": 6,
   "id": "6db7ba62",
   "metadata": {},
   "outputs": [
    {
     "data": {
      "text/plain": [
       "0    260\n",
       "1    240\n",
       "Name: label, dtype: int64"
      ]
     },
     "execution_count": 6,
     "metadata": {},
     "output_type": "execute_result"
    }
   ],
   "source": [
    "df[\"label\"].value_counts() "
   ]
  },
  {
   "cell_type": "code",
   "execution_count": 7,
   "id": "27cc0016",
   "metadata": {},
   "outputs": [
    {
     "name": "stdout",
     "output_type": "stream",
     "text": [
      "<class 'pandas.core.frame.DataFrame'>\n",
      "RangeIndex: 500 entries, 0 to 499\n",
      "Data columns (total 3 columns):\n",
      " #   Column  Non-Null Count  Dtype  \n",
      "---  ------  --------------  -----  \n",
      " 0   f_1     500 non-null    float64\n",
      " 1   f_2     500 non-null    float64\n",
      " 2   label   500 non-null    int32  \n",
      "dtypes: float64(2), int32(1)\n",
      "memory usage: 9.9 KB\n"
     ]
    }
   ],
   "source": [
    "df.info() "
   ]
  },
  {
   "cell_type": "code",
   "execution_count": 8,
   "id": "5b779d8f",
   "metadata": {},
   "outputs": [
    {
     "name": "stderr",
     "output_type": "stream",
     "text": [
      "C:\\Users\\ADMIN\\anaconda3\\lib\\site-packages\\seaborn\\_decorators.py:36: FutureWarning: Pass the following variable as a keyword arg: x. From version 0.12, the only valid positional argument will be `data`, and passing other arguments without an explicit keyword will result in an error or misinterpretation.\n",
      "  warnings.warn(\n"
     ]
    },
    {
     "data": {
      "text/plain": [
       "<AxesSubplot:xlabel='f_1'>"
      ]
     },
     "execution_count": 8,
     "metadata": {},
     "output_type": "execute_result"
    },
    {
     "data": {
      "image/png": "[encoded data removed]",
      "text/plain": [
       "<Figure size 640x480 with 1 Axes>"
      ]
     },
     "metadata": {},
     "output_type": "display_data"
    }
   ],
   "source": [
    "sns.boxplot(df[\"f_1\"])  "
   ]
  },
  {
   "cell_type": "code",
   "execution_count": 9,
   "id": "016fb240",
   "metadata": {},
   "outputs": [
    {
     "name": "stderr",
     "output_type": "stream",
     "text": [
      "C:\\Users\\ADMIN\\anaconda3\\lib\\site-packages\\seaborn\\_decorators.py:36: FutureWarning: Pass the following variable as a keyword arg: x. From version 0.12, the only valid positional argument will be `data`, and passing other arguments without an explicit keyword will result in an error or misinterpretation.\n",
      "  warnings.warn(\n"
     ]
    },
    {
     "data": {
      "text/plain": [
       "<AxesSubplot:xlabel='f_2'>"
      ]
     },
     "execution_count": 9,
     "metadata": {},
     "output_type": "execute_result"
    },
    {
     "data": {
      "image/png": "[encoded data removed]",
      "text/plain": [
       "<Figure size 640x480 with 1 Axes>"
      ]
     },
     "metadata": {},
     "output_type": "display_data"
    }
   ],
   "source": [
    "sns.boxplot(df[\"f_2\"]) "
   ]
  },
  {
   "cell_type": "markdown",
   "id": "a6bcc88c",
   "metadata": {},
   "source": [
    "## Identifying the input and output features "
   ]
  },
  {
   "cell_type": "code",
   "execution_count": 10,
   "id": "2b1bf0a1",
   "metadata": {},
   "outputs": [],
   "source": [
    "x=df[[\"f_1\",\"f_2\"]] \n",
    "y=df[\"label\"].astype(int)"
   ]
  },
  {
   "cell_type": "code",
   "execution_count": 11,
   "id": "b690c510",
   "metadata": {},
   "outputs": [
    {
     "data": {
      "text/html": [
       "<div>\n",
       "<style scoped>\n",
       "    .dataframe tbody tr th:only-of-type {\n",
       "        vertical-align: middle;\n",
       "    }\n",
       "\n",
       "    .dataframe tbody tr th {\n",
       "        vertical-align: top;\n",
       "    }\n",
       "\n",
       "    .dataframe thead th {\n",
       "        text-align: right;\n",
       "    }\n",
       "</style>\n",
       "<table border=\"1\" class=\"dataframe\">\n",
       "  <thead>\n",
       "    <tr style=\"text-align: right;\">\n",
       "      <th></th>\n",
       "      <th>f_1</th>\n",
       "      <th>f_2</th>\n",
       "    </tr>\n",
       "  </thead>\n",
       "  <tbody>\n",
       "    <tr>\n",
       "      <th>0</th>\n",
       "      <td>1.764052</td>\n",
       "      <td>0.400157</td>\n",
       "    </tr>\n",
       "    <tr>\n",
       "      <th>1</th>\n",
       "      <td>0.978738</td>\n",
       "      <td>2.240893</td>\n",
       "    </tr>\n",
       "    <tr>\n",
       "      <th>2</th>\n",
       "      <td>1.867558</td>\n",
       "      <td>-0.977278</td>\n",
       "    </tr>\n",
       "    <tr>\n",
       "      <th>3</th>\n",
       "      <td>0.950088</td>\n",
       "      <td>-0.151357</td>\n",
       "    </tr>\n",
       "    <tr>\n",
       "      <th>4</th>\n",
       "      <td>-0.103219</td>\n",
       "      <td>0.410599</td>\n",
       "    </tr>\n",
       "  </tbody>\n",
       "</table>\n",
       "</div>"
      ],
      "text/plain": [
       "        f_1       f_2\n",
       "0  1.764052  0.400157\n",
       "1  0.978738  2.240893\n",
       "2  1.867558 -0.977278\n",
       "3  0.950088 -0.151357\n",
       "4 -0.103219  0.410599"
      ]
     },
     "execution_count": 11,
     "metadata": {},
     "output_type": "execute_result"
    }
   ],
   "source": [
    "x.head()  "
   ]
  },
  {
   "cell_type": "code",
   "execution_count": 12,
   "id": "03b15a79",
   "metadata": {},
   "outputs": [
    {
     "data": {
      "text/plain": [
       "0    0\n",
       "1    0\n",
       "2    1\n",
       "3    1\n",
       "4    1\n",
       "Name: label, dtype: int32"
      ]
     },
     "execution_count": 12,
     "metadata": {},
     "output_type": "execute_result"
    }
   ],
   "source": [
    "y.head()  "
   ]
  },
  {
   "cell_type": "markdown",
   "id": "83deb094",
   "metadata": {},
   "source": [
    "## Spliting the data into train and test"
   ]
  },
  {
   "cell_type": "code",
   "execution_count": 13,
   "id": "ec76d198",
   "metadata": {},
   "outputs": [],
   "source": [
    "from sklearn.model_selection import train_test_split\n",
    "x_train,x_test,y_train,y_test=train_test_split(x,y,test_size=0.1)  "
   ]
  },
  {
   "cell_type": "code",
   "execution_count": 14,
   "id": "c75795ff",
   "metadata": {},
   "outputs": [
    {
     "data": {
      "text/plain": [
       "(450, 2)"
      ]
     },
     "execution_count": 14,
     "metadata": {},
     "output_type": "execute_result"
    }
   ],
   "source": [
    "x_train.shape  "
   ]
  },
  {
   "cell_type": "code",
   "execution_count": 15,
   "id": "eedac2b7",
   "metadata": {},
   "outputs": [
    {
     "data": {
      "text/plain": [
       "(50, 2)"
      ]
     },
     "execution_count": 15,
     "metadata": {},
     "output_type": "execute_result"
    }
   ],
   "source": [
    "x_test.shape "
   ]
  },
  {
   "cell_type": "markdown",
   "id": "3d1dd3d6",
   "metadata": {},
   "source": [
    "## Standardizing input features "
   ]
  },
  {
   "cell_type": "code",
   "execution_count": 16,
   "id": "42fa0ce2",
   "metadata": {},
   "outputs": [],
   "source": [
    "from sklearn.preprocessing import StandardScaler\n",
    "std=StandardScaler()\n",
    "x_train=std.fit_transform(x_train)\n",
    "x_test=std.transform(x_test)  "
   ]
  },
  {
   "cell_type": "markdown",
   "id": "b743e609",
   "metadata": {},
   "source": [
    "## Building the Logical Structure"
   ]
  },
  {
   "cell_type": "code",
   "execution_count": 20,
   "id": "0d9ca0f5",
   "metadata": {},
   "outputs": [],
   "source": [
    "from keras import Sequential \n",
    "from keras.layers import Dense, BatchNormalization \n",
    "from keras.regularizers import L1,L2,L1L2 \n",
    "from keras.optimizers import SGD  "
   ]
  },
  {
   "cell_type": "code",
   "execution_count": 21,
   "id": "707be013",
   "metadata": {},
   "outputs": [],
   "source": [
    "\n",
    "model=Sequential()\n",
    "model.add(Dense(20,activation=\"relu\",kernel_regularizer=L2(0.001),bias_regularizer=L2(0.001),input_dim=2))\n",
    "model.add(Dense(18,activation=\"relu\",kernel_regularizer=L2(0.001),bias_regularizer=L2(0.001)))\n",
    "model.add(Dense(16,activation=\"relu\",kernel_regularizer=L2(0.001),bias_regularizer=L2(0.001)))\n",
    "model.add(Dense(1,activation=\"sigmoid\",kernel_regularizer=L2(0.001),bias_regularizer=L2(0.001))) "
   ]
  },
  {
   "cell_type": "code",
   "execution_count": 22,
   "id": "081b71b1",
   "metadata": {},
   "outputs": [
    {
     "name": "stdout",
     "output_type": "stream",
     "text": [
      "Model: \"sequential_1\"\n",
      "_________________________________________________________________\n",
      " Layer (type)                Output Shape              Param #   \n",
      "=================================================================\n",
      " dense (Dense)               (None, 20)                60        \n",
      "                                                                 \n",
      " dense_1 (Dense)             (None, 18)                378       \n",
      "                                                                 \n",
      " dense_2 (Dense)             (None, 16)                304       \n",
      "                                                                 \n",
      " dense_3 (Dense)             (None, 1)                 17        \n",
      "                                                                 \n",
      "=================================================================\n",
      "Total params: 759 (2.96 KB)\n",
      "Trainable params: 759 (2.96 KB)\n",
      "Non-trainable params: 0 (0.00 Byte)\n",
      "_________________________________________________________________\n"
     ]
    }
   ],
   "source": [
    "model.summary()  "
   ]
  },
  {
   "cell_type": "code",
   "execution_count": 23,
   "id": "efd60b02",
   "metadata": {},
   "outputs": [
    {
     "name": "stdout",
     "output_type": "stream",
     "text": [
      "Epoch 1/35\n",
      "41/41 [==============================] - 3s 21ms/step - loss: 0.7706 - accuracy: 0.5160 - val_loss: 0.7399 - val_accuracy: 0.5556\n",
      "Epoch 2/35\n",
      "41/41 [==============================] - 0s 6ms/step - loss: 0.7411 - accuracy: 0.5259 - val_loss: 0.7238 - val_accuracy: 0.6000\n",
      "Epoch 3/35\n",
      "41/41 [==============================] - 0s 6ms/step - loss: 0.7224 - accuracy: 0.5704 - val_loss: 0.7124 - val_accuracy: 0.6444\n",
      "Epoch 4/35\n",
      "41/41 [==============================] - 0s 7ms/step - loss: 0.7081 - accuracy: 0.6840 - val_loss: 0.7034 - val_accuracy: 0.6444\n",
      "Epoch 5/35\n",
      "41/41 [==============================] - 0s 6ms/step - loss: 0.6970 - accuracy: 0.7012 - val_loss: 0.6963 - val_accuracy: 0.7111\n",
      "Epoch 6/35\n",
      "41/41 [==============================] - 0s 10ms/step - loss: 0.6864 - accuracy: 0.7901 - val_loss: 0.6877 - val_accuracy: 0.6889\n",
      "Epoch 7/35\n",
      "41/41 [==============================] - 0s 5ms/step - loss: 0.6749 - accuracy: 0.8247 - val_loss: 0.6777 - val_accuracy: 0.6889\n",
      "Epoch 8/35\n",
      "41/41 [==============================] - 0s 5ms/step - loss: 0.6635 - accuracy: 0.8049 - val_loss: 0.6685 - val_accuracy: 0.6889\n",
      "Epoch 9/35\n",
      "41/41 [==============================] - 0s 5ms/step - loss: 0.6524 - accuracy: 0.7778 - val_loss: 0.6592 - val_accuracy: 0.7111\n",
      "Epoch 10/35\n",
      "41/41 [==============================] - 0s 5ms/step - loss: 0.6414 - accuracy: 0.7852 - val_loss: 0.6501 - val_accuracy: 0.7111\n",
      "Epoch 11/35\n",
      "41/41 [==============================] - 0s 5ms/step - loss: 0.6304 - accuracy: 0.8025 - val_loss: 0.6401 - val_accuracy: 0.7111\n",
      "Epoch 12/35\n",
      "41/41 [==============================] - 0s 7ms/step - loss: 0.6188 - accuracy: 0.7951 - val_loss: 0.6287 - val_accuracy: 0.7111\n",
      "Epoch 13/35\n",
      "41/41 [==============================] - 0s 6ms/step - loss: 0.6069 - accuracy: 0.8049 - val_loss: 0.6182 - val_accuracy: 0.7111\n",
      "Epoch 14/35\n",
      "41/41 [==============================] - 0s 7ms/step - loss: 0.5942 - accuracy: 0.8247 - val_loss: 0.6055 - val_accuracy: 0.7111\n",
      "Epoch 15/35\n",
      "41/41 [==============================] - 0s 6ms/step - loss: 0.5807 - accuracy: 0.8148 - val_loss: 0.5938 - val_accuracy: 0.7556\n",
      "Epoch 16/35\n",
      "41/41 [==============================] - 0s 6ms/step - loss: 0.5665 - accuracy: 0.8247 - val_loss: 0.5827 - val_accuracy: 0.7556\n",
      "Epoch 17/35\n",
      "41/41 [==============================] - 0s 5ms/step - loss: 0.5521 - accuracy: 0.8494 - val_loss: 0.5699 - val_accuracy: 0.7778\n",
      "Epoch 18/35\n",
      "41/41 [==============================] - 0s 6ms/step - loss: 0.5376 - accuracy: 0.8667 - val_loss: 0.5553 - val_accuracy: 0.8000\n",
      "Epoch 19/35\n",
      "41/41 [==============================] - 0s 5ms/step - loss: 0.5225 - accuracy: 0.8617 - val_loss: 0.5430 - val_accuracy: 0.8000\n",
      "Epoch 20/35\n",
      "41/41 [==============================] - 0s 5ms/step - loss: 0.5073 - accuracy: 0.8938 - val_loss: 0.5276 - val_accuracy: 0.8000\n",
      "Epoch 21/35\n",
      "41/41 [==============================] - 0s 5ms/step - loss: 0.4922 - accuracy: 0.8988 - val_loss: 0.5142 - val_accuracy: 0.8222\n",
      "Epoch 22/35\n",
      "41/41 [==============================] - 0s 6ms/step - loss: 0.4769 - accuracy: 0.8963 - val_loss: 0.5011 - val_accuracy: 0.8222\n",
      "Epoch 23/35\n",
      "41/41 [==============================] - 0s 5ms/step - loss: 0.4624 - accuracy: 0.9136 - val_loss: 0.4869 - val_accuracy: 0.8667\n",
      "Epoch 24/35\n",
      "41/41 [==============================] - 0s 7ms/step - loss: 0.4468 - accuracy: 0.9210 - val_loss: 0.4707 - val_accuracy: 0.8667\n",
      "Epoch 25/35\n",
      "41/41 [==============================] - 0s 7ms/step - loss: 0.4326 - accuracy: 0.9309 - val_loss: 0.4552 - val_accuracy: 0.8667\n",
      "Epoch 26/35\n",
      "41/41 [==============================] - 0s 7ms/step - loss: 0.4178 - accuracy: 0.9235 - val_loss: 0.4432 - val_accuracy: 0.8889\n",
      "Epoch 27/35\n",
      "41/41 [==============================] - 0s 7ms/step - loss: 0.4035 - accuracy: 0.9383 - val_loss: 0.4292 - val_accuracy: 0.9111\n",
      "Epoch 28/35\n",
      "41/41 [==============================] - 0s 6ms/step - loss: 0.3892 - accuracy: 0.9457 - val_loss: 0.4164 - val_accuracy: 0.9111\n",
      "Epoch 29/35\n",
      "41/41 [==============================] - 0s 6ms/step - loss: 0.3752 - accuracy: 0.9580 - val_loss: 0.4017 - val_accuracy: 0.9111\n",
      "Epoch 30/35\n",
      "41/41 [==============================] - 0s 7ms/step - loss: 0.3619 - accuracy: 0.9531 - val_loss: 0.3918 - val_accuracy: 0.9333\n",
      "Epoch 31/35\n",
      "41/41 [==============================] - 0s 7ms/step - loss: 0.3477 - accuracy: 0.9580 - val_loss: 0.3800 - val_accuracy: 0.9333\n",
      "Epoch 32/35\n",
      "41/41 [==============================] - 0s 6ms/step - loss: 0.3348 - accuracy: 0.9630 - val_loss: 0.3674 - val_accuracy: 0.9333\n",
      "Epoch 33/35\n",
      "41/41 [==============================] - 0s 7ms/step - loss: 0.3218 - accuracy: 0.9630 - val_loss: 0.3567 - val_accuracy: 0.9333\n",
      "Epoch 34/35\n",
      "41/41 [==============================] - 0s 7ms/step - loss: 0.3092 - accuracy: 0.9679 - val_loss: 0.3420 - val_accuracy: 0.9333\n",
      "Epoch 35/35\n",
      "41/41 [==============================] - 0s 7ms/step - loss: 0.2970 - accuracy: 0.9704 - val_loss: 0.3301 - val_accuracy: 0.9556\n"
     ]
    }
   ],
   "source": [
    "model.compile(loss=\"binary_crossentropy\",optimizer=SGD(0.01),metrics=[\"accuracy\"])\n",
    "history=model.fit(x_train,y_train,batch_size=10,epochs=35,validation_split=0.1) "
   ]
  },
  {
   "cell_type": "code",
   "execution_count": 24,
   "id": "63f67584",
   "metadata": {},
   "outputs": [
    {
     "data": {
      "text/plain": [
       "<matplotlib.legend.Legend at 0x29c1a787cd0>"
      ]
     },
     "execution_count": 24,
     "metadata": {},
     "output_type": "execute_result"
    },
    {
     "data": {
      "image/png": "[encoded data removed]",
      "text/plain": [
       "<Figure size 640x480 with 1 Axes>"
      ]
     },
     "metadata": {},
     "output_type": "display_data"
    }
   ],
   "source": [
    "plt.plot(range(1,36),history.history[\"loss\"],label=\"train_loss\")\n",
    "plt.plot(range(1,36),history.history[\"val_loss\"],label=\"test_loss\") \n",
    "plt.legend() "
   ]
  },
  {
   "cell_type": "markdown",
   "id": "5a14ca51",
   "metadata": {},
   "source": [
    "## Predicting the model"
   ]
  },
  {
   "cell_type": "code",
   "execution_count": 25,
   "id": "78449da5",
   "metadata": {},
   "outputs": [
    {
     "name": "stdout",
     "output_type": "stream",
     "text": [
      "2/2 [==============================] - 0s 6ms/step\n"
     ]
    },
    {
     "data": {
      "text/plain": [
       "array([[0.07338443],\n",
       "       [0.5661809 ],\n",
       "       [0.74458015],\n",
       "       [0.5293699 ],\n",
       "       [0.33532658],\n",
       "       [0.97341335],\n",
       "       [0.7824638 ],\n",
       "       [0.336249  ],\n",
       "       [0.0922411 ],\n",
       "       [0.8350027 ],\n",
       "       [0.46242407],\n",
       "       [0.63904566],\n",
       "       [0.13174681],\n",
       "       [0.02926717],\n",
       "       [0.65218043],\n",
       "       [0.11648268],\n",
       "       [0.06301559],\n",
       "       [0.45939097],\n",
       "       [0.7246574 ],\n",
       "       [0.00273395],\n",
       "       [0.2236344 ],\n",
       "       [0.09785229],\n",
       "       [0.32965145],\n",
       "       [0.65586436],\n",
       "       [0.31865036],\n",
       "       [0.87171733],\n",
       "       [0.94168633],\n",
       "       [0.19037451],\n",
       "       [0.02919729],\n",
       "       [0.8949513 ],\n",
       "       [0.83484644],\n",
       "       [0.9994085 ],\n",
       "       [0.5171691 ],\n",
       "       [0.20256358],\n",
       "       [0.16950835],\n",
       "       [0.10061243],\n",
       "       [0.4957673 ],\n",
       "       [0.01371415],\n",
       "       [0.00611761],\n",
       "       [0.10860023],\n",
       "       [0.09597095],\n",
       "       [0.8452686 ],\n",
       "       [0.96007615],\n",
       "       [0.31787622],\n",
       "       [0.7561829 ],\n",
       "       [0.04064464],\n",
       "       [0.78716946],\n",
       "       [0.9435591 ],\n",
       "       [0.11687317],\n",
       "       [0.75904936]], dtype=float32)"
      ]
     },
     "execution_count": 25,
     "metadata": {},
     "output_type": "execute_result"
    }
   ],
   "source": [
    "predicted=model.predict(x_test) \n",
    "predicted "
   ]
  },
  {
   "cell_type": "code",
   "execution_count": 26,
   "id": "35d1dc44",
   "metadata": {},
   "outputs": [
    {
     "data": {
      "text/plain": [
       "array([[0],\n",
       "       [1],\n",
       "       [1],\n",
       "       [1],\n",
       "       [0],\n",
       "       [1],\n",
       "       [1],\n",
       "       [0],\n",
       "       [0],\n",
       "       [1],\n",
       "       [0],\n",
       "       [1],\n",
       "       [0],\n",
       "       [0],\n",
       "       [1],\n",
       "       [0],\n",
       "       [0],\n",
       "       [0],\n",
       "       [1],\n",
       "       [0],\n",
       "       [0],\n",
       "       [0],\n",
       "       [0],\n",
       "       [1],\n",
       "       [0],\n",
       "       [1],\n",
       "       [1],\n",
       "       [0],\n",
       "       [0],\n",
       "       [1],\n",
       "       [1],\n",
       "       [1],\n",
       "       [1],\n",
       "       [0],\n",
       "       [0],\n",
       "       [0],\n",
       "       [0],\n",
       "       [0],\n",
       "       [0],\n",
       "       [0],\n",
       "       [0],\n",
       "       [1],\n",
       "       [1],\n",
       "       [0],\n",
       "       [1],\n",
       "       [0],\n",
       "       [1],\n",
       "       [1],\n",
       "       [0],\n",
       "       [1]])"
      ]
     },
     "execution_count": 26,
     "metadata": {},
     "output_type": "execute_result"
    }
   ],
   "source": [
    "predicted=np.where(predicted>0.5,1,0)\n",
    "predicted  "
   ]
  },
  {
   "cell_type": "markdown",
   "id": "cbb685a5",
   "metadata": {},
   "source": [
    "## Evaluating the model "
   ]
  },
  {
   "cell_type": "code",
   "execution_count": 27,
   "id": "d29df17b",
   "metadata": {},
   "outputs": [
    {
     "name": "stdout",
     "output_type": "stream",
     "text": [
      "0.94\n"
     ]
    },
    {
     "data": {
      "image/png": "[encoded data removed]",
      "text/plain": [
       "<Figure size 640x480 with 2 Axes>"
      ]
     },
     "metadata": {},
     "output_type": "display_data"
    }
   ],
   "source": [
    "from sklearn.metrics import accuracy_score,confusion_matrix,ConfusionMatrixDisplay\n",
    "print(accuracy_score(y_test,predicted))\n",
    "cm=confusion_matrix(y_test,predicted)\n",
    "va=ConfusionMatrixDisplay(cm)\n",
    "va.plot() \n",
    "plt.show()  "
   ]
  },
  {
   "cell_type": "markdown",
   "id": "182c7c9b-1f9c-48a4-9442-cf777b13a39a",
   "metadata": {},
   "source": [
    "**Observation:** Diagonal element values are as highly as possible.So, the model predictions are accurate."
   ]
  },
  {
   "cell_type": "markdown",
   "id": "7c5763de",
   "metadata": {},
   "source": [
    "## PLOTING THE DECISION SURFACE "
   ]
  },
  {
   "cell_type": "code",
   "execution_count": 28,
   "id": "4965e5d1",
   "metadata": {},
   "outputs": [],
   "source": [
    "from mlxtend.plotting  import plot_decision_regions  "
   ]
  },
  {
   "cell_type": "code",
   "execution_count": 29,
   "id": "b8f7013b",
   "metadata": {},
   "outputs": [
    {
     "name": "stdout",
     "output_type": "stream",
     "text": [
      "9600/9600 [==============================] - 24s 2ms/step\n"
     ]
    },
    {
     "data": {
      "text/plain": [
       "<AxesSubplot:>"
      ]
     },
     "execution_count": 29,
     "metadata": {},
     "output_type": "execute_result"
    },
    {
     "data": {
      "image/png": "[encoded data removed]",
      "text/plain": [
       "<Figure size 640x480 with 1 Axes>"
      ]
     },
     "metadata": {},
     "output_type": "display_data"
    }
   ],
   "source": [
    "plot_decision_regions(x_train,y_train.values,clf=model) "
   ]
  },
  {
   "cell_type": "code",
   "execution_count": 30,
   "id": "31d9aedc",
   "metadata": {},
   "outputs": [
    {
     "name": "stdout",
     "output_type": "stream",
     "text": [
      "9600/9600 [==============================] - 21s 2ms/step\n"
     ]
    },
    {
     "data": {
      "text/plain": [
       "<AxesSubplot:>"
      ]
     },
     "execution_count": 30,
     "metadata": {},
     "output_type": "execute_result"
    },
    {
     "data": {
      "image/png": "[encoded data removed]",
      "text/plain": [
       "<Figure size 640x480 with 1 Axes>"
      ]
     },
     "metadata": {},
     "output_type": "display_data"
    }
   ],
   "source": [
    "plot_decision_regions(x_test,y_test.values,clf=model) "
   ]
  },
  {
   "cell_type": "markdown",
   "id": "96f81c62",
   "metadata": {},
   "source": [
    "## **Conclusions:**\n",
    "\n",
    "- This neural network model achieves an accuracy of 94%.\n",
    " \n",
    "#### The model architecture consists of 3 hidden layers with the following specifications:\n",
    "\n",
    "- In the first hidden layer, there are 20 neurons with the ReLU activation function and an L2 regularizer with a strength of 0.001.\n",
    "- In the second hidden layer, there are 18 neurons with the ReLU activation function and an L2 regularizer with a strength of 0.001.\n",
    "- In the third hidden layer, there are 16 neurons with the ReLU activation function and an L2 regularizer with a strength of 0.001.\n",
    "\n",
    "- The output layer uses the sigmoid activation function.\n",
    "\n",
    "\n",
    "#### Overall, this neural network model architecture and training configuration achieve an accuracy of 94%.   "
   ]
  },
  {
   "cell_type": "code",
   "execution_count": null,
   "id": "6210bb82",
   "metadata": {},
   "outputs": [],
   "source": []
  }
 ],
 "metadata": {
  "kernelspec": {
   "display_name": "Python 3 (ipykernel)",
   "language": "python",
   "name": "python3"
  },
  "language_info": {
   "codemirror_mode": {
    "name": "ipython",
    "version": 3
   },
   "file_extension": ".py",
   "mimetype": "text/x-python",
   "name": "python",
   "nbconvert_exporter": "python",
   "pygments_lexer": "ipython3",
   "version": "3.9.13"
  }
 },
 "nbformat": 4,
 "nbformat_minor": 5
}
